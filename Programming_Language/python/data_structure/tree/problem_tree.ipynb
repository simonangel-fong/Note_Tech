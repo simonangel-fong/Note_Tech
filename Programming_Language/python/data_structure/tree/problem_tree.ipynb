{
 "cells": [
  {
   "attachments": {},
   "cell_type": "markdown",
   "metadata": {},
   "source": [
    "# Binary Search Tree Check\n",
    "\n",
    "## Problem Statement\n",
    "\n",
    "Given a binary tree, check whether it’s a binary search tree or not.\n",
    "\n",
    "**Again, no solution cell, just worry about your code making sense logically. Hint: Think about tree traversals.**\n",
    "\n",
    "This is a classic interview problem, so feel free to just Google search \"Validate BST\" for more information on this problem!\n"
   ]
  },
  {
   "cell_type": "code",
   "execution_count": 18,
   "metadata": {},
   "outputs": [],
   "source": [
    "class node(object):\n",
    "    def __init__(self, key, value, lc=None, rc=None):\n",
    "        self.key = key\n",
    "        self.value = value\n",
    "        self.left_child = lc\n",
    "        self.right_child = rc"
   ]
  },
  {
   "cell_type": "code",
   "execution_count": null,
   "metadata": {},
   "outputs": [],
   "source": [
    "# some functions"
   ]
  },
  {
   "attachments": {},
   "cell_type": "markdown",
   "metadata": {},
   "source": [
    "## Solution\n"
   ]
  },
  {
   "cell_type": "code",
   "execution_count": null,
   "metadata": {},
   "outputs": [
    {
     "name": "stdout",
     "output_type": "stream",
     "text": [
      "True\n",
      "False\n"
     ]
    }
   ],
   "source": [
    "\n",
    "def get_AllValue(tree_node, output=None):\n",
    "    '''use inorder to traverse tree, due to the feature of bst'''\n",
    "\n",
    "    if output == None:\n",
    "        output = []\n",
    "\n",
    "    # Recursion:\n",
    "    #   - base case1: if current node is none, do nothing\n",
    "    #   - base case2: if current node is not none, for the key, append key\n",
    "    if tree_node:\n",
    "        # recursively get value from left_child\n",
    "        get_AllValue(tree_node.left_child, output)\n",
    "        output.append(tree_node.key)\n",
    "        get_AllValue(tree_node.right_child, output)\n",
    "    # print(output)\n",
    "    return output\n",
    "\n",
    "#  verify\n",
    "\n",
    "\n",
    "def verify(tree_node):\n",
    "    '''get all value from tree, compared values with sorted values'''\n",
    "    value_list = get_AllValue(tree_node)\n",
    "    return value_list == sorted(value_list)\n",
    "\n",
    "\n",
    "node01 = node(1, \"one\")\n",
    "node03 = node(3, \"three\")\n",
    "node02 = node(2, \"two\", node01, node03)\n",
    "\n",
    "print(verify(node02))       # true\n",
    "\n",
    "node04 = node(4, \"four\")\n",
    "node01.left_child = node04\n",
    "\n",
    "print(verify(node02))       # False"
   ]
  },
  {
   "attachments": {},
   "cell_type": "markdown",
   "metadata": {},
   "source": [
    "Another classic solution is to keep track of the minimum and maximum values a node can take. And at each node we will check whether its value is between the min and max values it’s allowed to take. The root can take any value between negative infinity and positive infinity. At any node, its left child should be smaller than or equal than its own value, and similarly the right child should be larger than or equal to. So during recursion, we send the current value as the new max to our left child and send the min as it is without changing. And to the right child, we send the current value as the new min and send the max without changing.\n",
    "\n",
    "- 思路:\n",
    "  - bst 恒有 max(left descendent) < parent < min(left descendent)\n",
    "  - 对 each node 递归验证\n",
    "  - base case:\n",
    "    - current = none, 返回 true\n",
    "    - current = leaf, 返回验证结果\n"
   ]
  },
  {
   "cell_type": "code",
   "execution_count": 38,
   "metadata": {},
   "outputs": [
    {
     "name": "stdout",
     "output_type": "stream",
     "text": [
      "True\n",
      "False\n"
     ]
    }
   ],
   "source": [
    "class Node:\n",
    "    def __init__(self, k, val):\n",
    "        self.key = k\n",
    "        self.value = val\n",
    "        self.left = None\n",
    "        self.right = None\n",
    "\n",
    "\n",
    "def tree_max(node):\n",
    "    if not node:\n",
    "        return float(\"-inf\")\n",
    "    maxleft = tree_max(node.left)\n",
    "    maxright = tree_max(node.right)\n",
    "    return max(node.key, maxleft, maxright)\n",
    "\n",
    "\n",
    "def tree_min(node):\n",
    "    if not node:\n",
    "        return float(\"inf\")\n",
    "    minleft = tree_min(node.left)\n",
    "    minright = tree_min(node.right)\n",
    "    return min(node.key, minleft, minright)\n",
    "\n",
    "\n",
    "def verify(node):\n",
    "    if not node:\n",
    "        return True\n",
    "    if (tree_max(node.left) <= node.key <= tree_min(node.right) and\n",
    "            verify(node.left) and verify(node.right)):\n",
    "        return True\n",
    "    else:\n",
    "        return False\n",
    "\n",
    "\n",
    "root = Node(10, \"Hello\")\n",
    "root.left = Node(5, \"Five\")\n",
    "root.right = Node(30, \"Thirty\")\n",
    "\n",
    "print(verify(root))  # prints True, since this tree is valid\n",
    "\n",
    "root = Node(10, \"Ten\")\n",
    "root.right = Node(20, \"Twenty\")\n",
    "root.left = Node(5, \"Five\")\n",
    "root.left.right = Node(15, \"Fifteen\")\n",
    "\n",
    "print(verify(root))  # prints False, since 15 is to the left of 10"
   ]
  },
  {
   "attachments": {},
   "cell_type": "markdown",
   "metadata": {},
   "source": [
    "---\n",
    "## Tree Level Order Print\n",
    "\n",
    "Given a binary tree of integers, print it in level order. The output will contain space between the numbers in the same level, and new line between different levels. For example, if the tree is:\n",
    "---\n",
    "\n",
    "![title](./pic/tree_print.png)\n",
    "\n",
    "---\n",
    "\n",
    "The output should be:\n",
    "\n",
    "    1\n",
    "    2 3\n",
    "    4 5 6\n"
   ]
  },
  {
   "attachments": {},
   "cell_type": "markdown",
   "metadata": {},
   "source": [
    "### Solution\n",
    "\n",
    "- It won’t be practical to solve this problem using recursion, **because recursion is similar to depth first search,** but what we need here is breadth first search. So we will **use a queue as we did previously in breadth first search**.\n",
    "\n",
    "  - First, we’ll push the root node into the queue.\n",
    "  - Then we start a while loop with the condition queue not being empty.\n",
    "  - Then, at each iteration we pop a node from the beginning of the queue and push its children to the end of the queue. Once we pop a node we print its value and space.\n",
    "\n",
    "- To print the new line in correct place we should count the number of nodes at each level. We will have 2 counts, namely current level count and next level count.\n",
    "\n",
    "  - **Current level count** indicates how many nodes should be printed at this level before printing a new line.\n",
    "  - We decrement it every time we pop an element from the queue and print it.\n",
    "  - Once the current level count reaches zero we **print a new line**.\n",
    "  - **Next level count** contains the number of nodes in the next level, which will become the current level count after printing a new line.\n",
    "  - We count the number of nodes in the next level by counting the number of children of the nodes in the current level.\n",
    "\n",
    "- 思路:\n",
    "  - 使用 queue 的 FIFO\n",
    "    - 在 python 中使用 collections.deque\n",
    "      - 使用 append 实现 in\n",
    "      - 使用 popleft 实现 out\n",
    "    - 对 queue 循环, 如果 node 有 left/right, queue 增加;\n",
    "    - 利用 leaf 没有 left/right, 所以循环直到最后一行没有时, queue 不再增加.\n",
    "  - 难点在于如何换行\n",
    "    - 使用 current count 对本行进行计数, 因为是 tree 结构, 只有一个 root, 所以初始值是 1.\n",
    "    - 每个 node 打印后, 递减直到 0, 即换行\n",
    "    - 使用 next count 对 children 进行计数, 因为无法确定当前是否 leaf,所以 next count 初始是 0\n",
    "    - 每次循环结束时, current 和 next 互换.\n"
   ]
  },
  {
   "cell_type": "code",
   "execution_count": 1,
   "metadata": {},
   "outputs": [],
   "source": [
    "class Node:\n",
    "    def __init__(self, val=None):\n",
    "        self.left = None\n",
    "        self.right = None\n",
    "        self.val = val"
   ]
  },
  {
   "cell_type": "code",
   "execution_count": 14,
   "metadata": {},
   "outputs": [],
   "source": [
    "import collections\n",
    "\n",
    "\n",
    "def levelOrderPrint(tree):\n",
    "    if not tree:\n",
    "        return\n",
    "    nodes = collections.deque([tree])\n",
    "    currentCount, nextCount = 1, 0\n",
    "    while len(nodes) != 0:\n",
    "        currentNode = nodes.popleft()\n",
    "        currentCount -= 1\n",
    "        print(currentNode.val, end=\"\")\n",
    "        if currentNode.left:\n",
    "            nodes.append(currentNode.left)\n",
    "            nextCount += 1\n",
    "        if currentNode.right:\n",
    "            nodes.append(currentNode.right)\n",
    "            nextCount += 1\n",
    "        if currentCount == 0:\n",
    "            # finished printing current level\n",
    "            print('\\n', end='')\n",
    "            currentCount, nextCount = nextCount, currentCount"
   ]
  },
  {
   "cell_type": "code",
   "execution_count": 15,
   "metadata": {},
   "outputs": [
    {
     "name": "stdout",
     "output_type": "stream",
     "text": [
      "1\n",
      "23\n"
     ]
    }
   ],
   "source": [
    "root = Node(1)\n",
    "\n",
    "root.left = Node(2)\n",
    "root.right = Node(3)\n",
    "\n",
    "levelOrderPrint(root)"
   ]
  },
  {
   "attachments": {},
   "cell_type": "markdown",
   "metadata": {},
   "source": [
    "---\n",
    "## Trim a Binary Search Tree\n",
    "\n",
    "- Given the root of a binary search tree and 2 numbers min and max, trim the tree such that all the numbers in the new tree are between min and max (inclusive). The resulting tree should still be a valid binary search tree. So, if we get this tree as input:\n",
    "---\n",
    "\n",
    "![title](./pic/bst1.png)\n",
    "\n",
    "---\n",
    "\n",
    "and we’re given **min value as 5** and **max value as 13**, then the resulting binary search tree should be:\n",
    "\n",
    "---\n",
    "\n",
    "![title](./pic/bst_trim.png)\n",
    "\n",
    "---\n",
    "\n",
    "We should remove all the nodes whose value is not between min and max.\n",
    "\n",
    "---\n",
    "\n",
    "** Feel free to reference the lecture on Binary Search Tree for the node class, but what it more important here is the logic of your function. In which case your function should be in the form:**\n"
   ]
  },
  {
   "cell_type": "code",
   "execution_count": null,
   "metadata": {},
   "outputs": [],
   "source": [
    "class Node:\n",
    "    def __init__(self, val=None):\n",
    "        self.left = None\n",
    "        self.right = None\n",
    "        self.val = val\n",
    "\n",
    "\n",
    "def trimBST(tree, minVal, maxVal):\n",
    "\n",
    "    print(tree.left)  # LeftChild\n",
    "    print(tree.right)  # Right Child\n",
    "    print(tree.val)  # Node's value\n",
    "\n",
    "    pass\n",
    "\n",
    "# Use tree.left , tree.right , and tree.val as your methods to call\n",
    "\n",
    "\n",
    "# def traverse(root, output=None):\n",
    "#     if output == None:\n",
    "#         output = []\n",
    "\n",
    "#     if root.left != None:\n",
    "#         traverse(root.left, output)\n",
    "\n",
    "#     output.append(root.val)\n",
    "\n",
    "#     if root.right != None:\n",
    "#         traverse(root.right, output)"
   ]
  },
  {
   "attachments": {},
   "cell_type": "markdown",
   "metadata": {},
   "source": [
    "### Solution\n",
    "\n",
    "- We can do this by performing a **post-order traversal** of the tree.\n",
    "\n",
    "  - We first process the left children, then right children, and finally the node itself.\n",
    "  - So we form the new tree bottom up, starting from the leaves towards the root.\n",
    "  - As a result while processing the node itself, both its left and right subtrees are valid trimmed binary search trees (may be NULL as well).\n",
    "\n",
    "- At each node we’ll return a reference based on its value, which will then be assigned to its parent’s left or right child pointer, depending on whether the current node is left or right child of the parent.\n",
    "  - If current node’s value is **between min and max** (min<=node<=max) then there’s **no action** need to be taken, so we return the reference to the node itself.\n",
    "  - If current node’s value is **less than min**, then we return the reference to its right subtree, and discard the left subtree. Because if a node’s value is less than min, then **its left children are definitely less than min** since this is a binary search tree. But its right children may or may not be less than min we can’t be sure, so we return the reference to it.\n",
    "  - Since we’re performing **bottom-up post-order traversal**, its **right subtree** is already a trimmed valid binary search tree (possibly NULL), and left subtree is definitely NULL because those nodes were surely less than min and they were eliminated during the post-order traversal.\n",
    "- Remember that **in post-order traversal we first process all the children of a node, and then finally the node itself.**\n",
    "\n",
    "- Similar situation occurs when node’s value is greater than max, we now return the reference to its left subtree. Because if a node’s value is greater than max, then its right children are definitely greater than max. But its left children may or may not be greater than max. So we discard the right subtree and return the reference to the already valid left subtree.\n",
    "\n",
    "- The complexity of this algorithm is `O(N)`, where N is the number of nodes in the tree. Because we basically perform a post-order traversal of the tree, visiting each and every node one. This is optimal because we should visit every node at least once. This is a very elegant question that demonstrates the effectiveness of recursion in trees.\n"
   ]
  },
  {
   "cell_type": "code",
   "execution_count": 57,
   "metadata": {},
   "outputs": [],
   "source": [
    "class Node:\n",
    "    def __init__(self, val=None, left=None, right=None):\n",
    "        self.left = left\n",
    "        self.right = right\n",
    "        self.val = val\n",
    "\n",
    "\n",
    "def trimBST(tree, minVal, maxVal):\n",
    "\n",
    "    if not tree:\n",
    "        return\n",
    "\n",
    "    tree.left = trimBST(tree.left, minVal, maxVal)\n",
    "    tree.right = trimBST(tree.right, minVal, maxVal)\n",
    "\n",
    "    # 在范围时, left, right 不变\n",
    "    if minVal <= tree.val <= maxVal:\n",
    "        return tree\n",
    "\n",
    "    # 小于, left = right, left尝试向范围靠拢; 下一次递归时, 如果在范围则不变; 否则继续靠拢\n",
    "    # 如果right = none, 则收敛\n",
    "    if tree.val < minVal:\n",
    "        return tree.right\n",
    "\n",
    "    # 同理, 大约, right=left, right尝试向范围靠拢;\n",
    "    # 如果left = none, 则收敛\n",
    "    if tree.val > maxVal:\n",
    "        return tree.left"
   ]
  },
  {
   "attachments": {},
   "cell_type": "markdown",
   "metadata": {},
   "source": [
    "- 思路总结:\n",
    "  - 使用 post-order, 效果先递归到 leaf.\n",
    "    - 代码中是先 left 后 right, 所以向左叶开始递归然后开始向上收敛\n",
    "  - 因为 bst 的定义, 所以外<内, 左<右. 递归一定保证在 leaf 收敛后的树还是 bst\n",
    "  - 当 node 在范围内时, node 不变\n",
    "  - 当 node < min 时, 返回 right, 则递归向范围靠拢, 直到:\n",
    "    - 递归回到范围\n",
    "    - node=none, 则收敛\n",
    "  - 当 node > max 时, 返回 left, 则递归向返回靠拢, 直到:\n",
    "    - 递归回到范围\n",
    "    - node=none, 则收敛\n"
   ]
  }
 ],
 "metadata": {
  "kernelspec": {
   "display_name": "Python 3",
   "language": "python",
   "name": "python3"
  },
  "language_info": {
   "codemirror_mode": {
    "name": "ipython",
    "version": 3
   },
   "file_extension": ".py",
   "mimetype": "text/x-python",
   "name": "python",
   "nbconvert_exporter": "python",
   "pygments_lexer": "ipython3",
   "version": "3.9.13"
  },
  "orig_nbformat": 4
 },
 "nbformat": 4,
 "nbformat_minor": 2
}
