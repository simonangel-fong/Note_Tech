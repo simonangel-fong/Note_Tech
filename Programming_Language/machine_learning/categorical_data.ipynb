{
 "cells": [
  {
   "cell_type": "code",
   "execution_count": 20,
   "metadata": {},
   "outputs": [
    {
     "data": {
      "text/html": [
       "<div>\n",
       "<style scoped>\n",
       "    .dataframe tbody tr th:only-of-type {\n",
       "        vertical-align: middle;\n",
       "    }\n",
       "\n",
       "    .dataframe tbody tr th {\n",
       "        vertical-align: top;\n",
       "    }\n",
       "\n",
       "    .dataframe thead th {\n",
       "        text-align: right;\n",
       "    }\n",
       "</style>\n",
       "<table border=\"1\" class=\"dataframe\">\n",
       "  <thead>\n",
       "    <tr style=\"text-align: right;\">\n",
       "      <th></th>\n",
       "      <th>Car</th>\n",
       "      <th>Model</th>\n",
       "      <th>Volume</th>\n",
       "      <th>Weight</th>\n",
       "      <th>CO2</th>\n",
       "    </tr>\n",
       "  </thead>\n",
       "  <tbody>\n",
       "    <tr>\n",
       "      <th>0</th>\n",
       "      <td>Toyoty</td>\n",
       "      <td>Aygo</td>\n",
       "      <td>1000</td>\n",
       "      <td>790</td>\n",
       "      <td>99</td>\n",
       "    </tr>\n",
       "    <tr>\n",
       "      <th>1</th>\n",
       "      <td>Mitsubishi</td>\n",
       "      <td>Space Star</td>\n",
       "      <td>1200</td>\n",
       "      <td>1160</td>\n",
       "      <td>95</td>\n",
       "    </tr>\n",
       "    <tr>\n",
       "      <th>2</th>\n",
       "      <td>Skoda</td>\n",
       "      <td>Citigo</td>\n",
       "      <td>1000</td>\n",
       "      <td>929</td>\n",
       "      <td>95</td>\n",
       "    </tr>\n",
       "    <tr>\n",
       "      <th>3</th>\n",
       "      <td>Fiat</td>\n",
       "      <td>500</td>\n",
       "      <td>900</td>\n",
       "      <td>865</td>\n",
       "      <td>90</td>\n",
       "    </tr>\n",
       "    <tr>\n",
       "      <th>4</th>\n",
       "      <td>Mini</td>\n",
       "      <td>Cooper</td>\n",
       "      <td>1500</td>\n",
       "      <td>1140</td>\n",
       "      <td>105</td>\n",
       "    </tr>\n",
       "  </tbody>\n",
       "</table>\n",
       "</div>"
      ],
      "text/plain": [
       "          Car       Model  Volume  Weight  CO2\n",
       "0      Toyoty        Aygo    1000     790   99\n",
       "1  Mitsubishi  Space Star    1200    1160   95\n",
       "2       Skoda      Citigo    1000     929   95\n",
       "3        Fiat         500     900     865   90\n",
       "4        Mini      Cooper    1500    1140  105"
      ]
     },
     "execution_count": 20,
     "metadata": {},
     "output_type": "execute_result"
    }
   ],
   "source": [
    "import pandas as pd\n",
    "\n",
    "cars = pd.read_csv('data.csv')\n",
    "cars.head()\n",
    "# \tCar\tModel\tVolume\tWeight\tCO2\n",
    "# 0\tToyoty\tAygo\t1000\t790\t99\n",
    "# 1\tMitsubishi\tSpace Star\t1200\t1160\t95\n",
    "# 2\tSkoda\tCitigo\t1000\t929\t95\n",
    "# 3\tFiat\t500\t900\t865\t90\n",
    "# 4\tMini\tCooper\t1500\t1140\t105\n"
   ]
  },
  {
   "attachments": {},
   "cell_type": "markdown",
   "metadata": {},
   "source": [
    "### One Hot Encoding\n",
    "\n",
    "- cannot make use of the Car or Model column in our data since they are not numeric.\n",
    "  \n",
    "- A linear relationship between a categorical variable, Car or Model, and a numeric variable, CO2, cannot be determined.\n",
    "\n",
    "- To fix this issue, we must have a numeric representation of the categorical variable. \n",
    "    - one way to this is one hot encoding\n",
    "\n",
    "- `one hot encoding`: to have a column representing each group in the category.\n",
    "  - For each column, the values will be 1 or 0 where 1 represents the inclusion of the group and 0 represents the exclusion.\n",
    "\n",
    "- `pandas.get_dummies()`: Convert categorical variable into dummy/indicator variables.\n",
    "\n",
    "- use this additional information alongside the volume and weight to predict CO2\n",
    "  - `pandas.concat()`: Concatenate pandas objects along a particular axis."
   ]
  },
  {
   "cell_type": "code",
   "execution_count": 30,
   "metadata": {},
   "outputs": [
    {
     "name": "stdout",
     "output_type": "stream",
     "text": [
      "0      99\n",
      "1      95\n",
      "2      95\n",
      "3      90\n",
      "4     105\n",
      "5     105\n",
      "6      90\n",
      "7      92\n",
      "8      98\n",
      "9      99\n",
      "10     99\n",
      "11    101\n",
      "12     99\n",
      "13     94\n",
      "14     97\n",
      "15     97\n",
      "16     99\n",
      "17    104\n",
      "18    104\n",
      "19    105\n",
      "20     94\n",
      "21     99\n",
      "22     99\n",
      "23     99\n",
      "24     99\n",
      "25    102\n",
      "26    104\n",
      "27    114\n",
      "28    109\n",
      "29    114\n",
      "30    115\n",
      "31    117\n",
      "32    104\n",
      "33    108\n",
      "34    109\n",
      "35    120\n"
     ]
    }
   ],
   "source": [
    "\n",
    "ohe_cars = pd.get_dummies(cars[['Car']])\n",
    "# print(ohe_cars.to_string())\n",
    "\n",
    "X = pd.concat([cars[['Volume', 'Weight']], ohe_cars], axis=1)\n",
    "# print(X.to_string())\n",
    "\n",
    "y = cars['CO2']\n",
    "# print(y.to_string())"
   ]
  },
  {
   "cell_type": "code",
   "execution_count": 22,
   "metadata": {},
   "outputs": [
    {
     "name": "stdout",
     "output_type": "stream",
     "text": [
      "[122.45153299]\n"
     ]
    },
    {
     "name": "stderr",
     "output_type": "stream",
     "text": [
      "c:\\Python39\\lib\\site-packages\\sklearn\\base.py:439: UserWarning: X does not have valid feature names, but LinearRegression was fitted with feature names\n",
      "  warnings.warn(\n"
     ]
    }
   ],
   "source": [
    "# create model and fir data\n",
    "\n",
    "from sklearn import linear_model\n",
    "regr = linear_model.LinearRegression()\n",
    "regr.fit(X, y)\n",
    "\n",
    "# predict the CO2 emission of a Volvo where the weight is 2300kg, and the volume is 1300cm3:\n",
    "predictedCO2 = regr.predict(\n",
    "    [[2300, 1300, 0, 0, 0, 0, 0, 0, 0, 0, 0, 0, 0, 0, 0, 0, 0, 1, 0]])\n",
    "print(predictedCO2)     # [122.45153299]"
   ]
  },
  {
   "attachments": {},
   "cell_type": "markdown",
   "metadata": {},
   "source": [
    "### Dummifying\n",
    "\n",
    "- Instead of One Hot Encoding, to create one column for each group in your category, the data can be transformed using 1 column less than the number of groups.\n",
    "\n",
    "  - 即在上一个方法中,是将一列中的类别拆分为若干 N 个列,再进行线性回归.\n",
    "  - 本方法是将类别拆分为 N-1 个列, 使用这些列的组合指代具体的类别,再进行线性回归.\n",
    "\n",
    "- `pandas.get_dummies(drop_first)`\n",
    "    - drop_first: bool, default False\n",
    "      - Whether to get `k-1` dummies out of `k` categorical levels by removing the first level.\n",
    "\n",
    "- Example: a column representing colors\n",
    "\n",
    "\n"
   ]
  },
  {
   "cell_type": "code",
   "execution_count": 23,
   "metadata": {},
   "outputs": [
    {
     "name": "stdout",
     "output_type": "stream",
     "text": [
      "colors   color\n",
      "0  blue\n",
      "1   red\n",
      "dummies    color_red\n",
      "0          0\n",
      "1          1\n"
     ]
    }
   ],
   "source": [
    "import pandas as pd\n",
    "\n",
    "colors = pd.DataFrame({'color': ['blue', 'red']})\n",
    "print(\"colors\", colors)\n",
    "\n",
    "dummies = pd.get_dummies(colors, drop_first=True)\n",
    "print(\"dummies\", dummies)\n",
    "# the first column for blue is dropped.\n",
    "# to represent color blue, it takes color_red as 0 or false."
   ]
  },
  {
   "cell_type": "code",
   "execution_count": 24,
   "metadata": {},
   "outputs": [
    {
     "name": "stdout",
     "output_type": "stream",
     "text": [
      "colors\n",
      "    color\n",
      "0   blue\n",
      "1    red\n",
      "2  green\n",
      "dummies\n",
      "    color_green  color_red\n",
      "0            0          0\n",
      "1            0          1\n",
      "2            1          0\n",
      "   color  color_green  color_red\n",
      "0   blue            0          0\n",
      "1    red            0          1\n",
      "2  green            1          0\n"
     ]
    }
   ],
   "source": [
    "# If there are 3 colors\n",
    "\n",
    "import pandas as pd\n",
    "\n",
    "colors = pd.DataFrame({'color': ['blue', 'red', 'green']})\n",
    "print(\"colors\\n\", colors)\n",
    "\n",
    "dummies = pd.get_dummies(colors, drop_first=True)\n",
    "print(\"dummies\\n\", dummies)\n",
    "\n",
    "# dummies['color'] = colors['color']                # add orignal color column\n",
    "# new data set, adding colors and dummies\n",
    "new_colors = pd.concat([colors, dummies], axis=1)\n",
    "\n",
    "print(new_colors)"
   ]
  }
 ],
 "metadata": {
  "kernelspec": {
   "display_name": "Python 3",
   "language": "python",
   "name": "python3"
  },
  "language_info": {
   "codemirror_mode": {
    "name": "ipython",
    "version": 3
   },
   "file_extension": ".py",
   "mimetype": "text/x-python",
   "name": "python",
   "nbconvert_exporter": "python",
   "pygments_lexer": "ipython3",
   "version": "3.9.13"
  },
  "orig_nbformat": 4
 },
 "nbformat": 4,
 "nbformat_minor": 2
}
