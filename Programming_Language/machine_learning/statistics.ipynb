{
 "cells": [
  {
   "cell_type": "code",
   "execution_count": 2,
   "metadata": {},
   "outputs": [
    {
     "name": "stdout",
     "output_type": "stream",
     "text": [
      "89.76923076923077\n"
     ]
    }
   ],
   "source": [
    "import numpy as np\n",
    "speed = [99, 86, 87, 88, 111, 86, 103, 87, 94, 78, 77, 85, 86]\n",
    "mean_speed = np.mean(speed)\n",
    "\n",
    "print(mean_speed)    # 89.76923076923077"
   ]
  },
  {
   "cell_type": "code",
   "execution_count": 3,
   "metadata": {},
   "outputs": [
    {
     "name": "stdout",
     "output_type": "stream",
     "text": [
      "87.0\n"
     ]
    }
   ],
   "source": [
    "import numpy as np\n",
    "speed = [99,86,87,88,111,86,103,87,94,78,77,85,86]\n",
    "speed_median = np.median(speed)\n",
    "\n",
    "print(speed_median)     # 87.0"
   ]
  },
  {
   "cell_type": "code",
   "execution_count": 5,
   "metadata": {},
   "outputs": [
    {
     "name": "stdout",
     "output_type": "stream",
     "text": [
      "ModeResult(mode=array([86]), count=array([3]))\n"
     ]
    },
    {
     "name": "stderr",
     "output_type": "stream",
     "text": [
      "C:\\Users\\simon\\AppData\\Local\\Temp\\ipykernel_3920\\3377674657.py:3: FutureWarning: Unlike other reduction functions (e.g. `skew`, `kurtosis`), the default behavior of `mode` typically preserves the axis it acts along. In SciPy 1.11.0, this behavior will change: the default value of `keepdims` will become False, the `axis` over which the statistic is taken will be eliminated, and the value None will no longer be accepted. Set `keepdims` to True or False to avoid this warning.\n",
      "  mode_speed = stats.mode(speed)\n"
     ]
    }
   ],
   "source": [
    "from scipy import stats\n",
    "speed = [99,86,87,88,111,86,103,87,94,78,77,85,86]\n",
    "x = stats.mode(speed)\n",
    "\n",
    "print(x)\n",
    "# ModeResult(mode=array([86]), count=array([3]))\n",
    "# The mode() method returns a ModeResult object that contains the mode number (86), and count (how many times the mode number appeared (3))."
   ]
  },
  {
   "cell_type": "code",
   "execution_count": 3,
   "metadata": {},
   "outputs": [
    {
     "name": "stdout",
     "output_type": "stream",
     "text": [
      "Most of the values are within the range of standard deviation 0.90 from the mean value, which is 86.43.\n",
      "Most of the values are within the range of standard deviation 37.85 from the mean value, which is 77.43.\n"
     ]
    }
   ],
   "source": [
    "import numpy as np\n",
    "\n",
    "speed01 = [86, 87, 88, 86, 87, 85, 86]\n",
    "speed02 = [32, 111, 138, 28, 59, 77, 97]\n",
    "\n",
    "std_speed01 = np.std(speed01)\n",
    "mean_speed01 = np.mean(speed01)\n",
    "\n",
    "std_speed02 = np.std(speed02)\n",
    "mean_speed02 = np.mean(speed02)\n",
    "\n",
    "print(\"Most of the values are within the range of standard deviation {0:.2f} from the mean value, which is {1:.2f}.\".format(\n",
    "    std_speed01, mean_speed01))\n",
    "# Most of the values are within the range of standard deviation 0.90 from the mean value, which is 86.43.\n",
    "\n",
    "print(\"Most of the values are within the range of standard deviation {0:.2f} from the mean value, which is {1:.2f}.\".format(\n",
    "    std_speed02, mean_speed02))\n",
    "# Most of the values are within the range of standard deviation 37.85 from the mean value, which is 77.43."
   ]
  },
  {
   "cell_type": "code",
   "execution_count": 9,
   "metadata": {},
   "outputs": [
    {
     "name": "stdout",
     "output_type": "stream",
     "text": [
      "\n",
      "Variance set speed01: 0.82\n",
      "Std set speed01: 0.90\n",
      "\n",
      "Variance set speed02: 1432.24\n",
      "Std set speed02: 37.85\n"
     ]
    }
   ],
   "source": [
    "import numpy\n",
    "\n",
    "speed01 = [86, 87, 88, 86, 87, 85, 86]\n",
    "speed02 = [32, 111, 138, 28, 59, 77, 97]\n",
    "\n",
    "variance_speed01 = numpy.var(speed01)\n",
    "variance_speed02 = numpy.var(speed02)\n",
    "\n",
    "std_speed01 = np.sqrt(variance_speed01)\n",
    "std_speed02 = np.sqrt(variance_speed02)\n",
    "\n",
    "print(\"\\nVariance set speed01: {:.2f}\".format(variance_speed01))\n",
    "print(\"Std set speed01: {:.2f}\".format(std_speed01))\n",
    "print(\"\\nVariance set speed02: {:.2f}\".format(variance_speed02))\n",
    "print(\"Std set speed02: {:.2f}\".format(std_speed02))"
   ]
  },
  {
   "cell_type": "code",
   "execution_count": 21,
   "metadata": {},
   "outputs": [
    {
     "name": "stdout",
     "output_type": "stream",
     "text": [
      "Number of data:\t21\n",
      "Maximum:\t82\n",
      "Minimum:\t2\n",
      "Mean:\t\t32.38\n",
      "75% of data are lower than 43.0\n",
      "90% of data are lower than 61.0\n"
     ]
    }
   ],
   "source": [
    "import numpy as np\n",
    "\n",
    "ages = [5, 31, 43, 48, 50, 41, 7, 11, 15, 39,\n",
    "        80, 82, 32, 2, 8, 6, 25, 36, 27, 61, 31]\n",
    "\n",
    "percentile_75_ages = np.percentile(ages, 75)\n",
    "percentile_90_ages = np.percentile(ages, 90)\n",
    "\n",
    "num_ages = len(ages)\n",
    "max_ages = np.max(ages)\n",
    "min_ages = np.min(ages)\n",
    "mean_ages = np.mean(ages)\n",
    "std_ages = np.std(ages)\n",
    "\n",
    "print(\"Number of data:\\t{:d}\".format(num_ages))\n",
    "print(\"Maximum:\\t{}\".format(max_ages))\n",
    "print(\"Minimum:\\t{}\".format(min_ages))\n",
    "print(\"Mean:\\t\\t{:.2f}\".format(mean_ages))\n",
    "\n",
    "print(\"75% of data are lower than {}\".format(percentile_75_ages))\n",
    "print(\"90% of data are lower than {}\".format(percentile_90_ages))\n"
   ]
  }
 ],
 "metadata": {
  "kernelspec": {
   "display_name": "Python 3",
   "language": "python",
   "name": "python3"
  },
  "language_info": {
   "codemirror_mode": {
    "name": "ipython",
    "version": 3
   },
   "file_extension": ".py",
   "mimetype": "text/x-python",
   "name": "python",
   "nbconvert_exporter": "python",
   "pygments_lexer": "ipython3",
   "version": "3.9.13"
  },
  "orig_nbformat": 4
 },
 "nbformat": 4,
 "nbformat_minor": 2
}
