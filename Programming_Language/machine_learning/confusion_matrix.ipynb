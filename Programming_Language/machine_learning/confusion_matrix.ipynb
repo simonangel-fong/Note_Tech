{
 "cells": [
  {
   "attachments": {},
   "cell_type": "markdown",
   "metadata": {},
   "source": [
    "### Creating a Confusion Matrix\n",
    "\n",
    "- `Confusion matrixes` can be created by predictions made from a `logistic regression`.\n",
    "\n",
    "- `sklearn.metrics.confusion_matrix()`: create the confusion matrix "
   ]
  },
  {
   "cell_type": "code",
   "execution_count": 2,
   "metadata": {},
   "outputs": [],
   "source": [
    "import numpy\n",
    "\n",
    "# numpy.random.binomial(): Draw samples from a binomial distribution二项分布.\n",
    "#   n: int Parameter of the distribution\n",
    "#   p: float Parameter of the distribution\n",
    "#   size: Output shape.\n",
    "# return: Drawn samples from the parameterized binomial distribution\n",
    "actual = numpy.random.binomial(1, 0.9, size=1000)\n",
    "predicted = numpy.random.binomial(1, 0.9, size=1000)\n",
    "\n",
    "# print(actual)\n",
    "# print(predicted)\n",
    "\n",
    "from sklearn import metrics\n",
    "confusion_matrix = metrics.confusion_matrix(actual, predicted)\n"
   ]
  },
  {
   "attachments": {},
   "cell_type": "markdown",
   "metadata": {},
   "source": [
    "### Visulize Confusion Matrix \n",
    "\n",
    "- `sklearn.metrics.ConfusionMatrixDisplay()`: convert the table into a confusion matrix display.\n",
    "  - parameter:\n",
    "    - confusion_matrix: Confusion matrix.\n",
    "    - display_labels: Display labels for plot\n",
    "  - return: ConfusionMatrixDisplay object"
   ]
  },
  {
   "cell_type": "code",
   "execution_count": 3,
   "metadata": {},
   "outputs": [
    {
     "data": {
      "image/png": "[encoded data removed]",
      "text/plain": [
       "<Figure size 640x480 with 2 Axes>"
      ]
     },
     "metadata": {},
     "output_type": "display_data"
    }
   ],
   "source": [
    "import matplotlib.pyplot as plt\n",
    "\n",
    "cm_display = metrics.ConfusionMatrixDisplay(confusion_matrix = confusion_matrix, display_labels = [False, True])\n",
    "\n",
    "# print(type(cm_display))\n",
    "\n",
    "cm_display.plot()\n",
    "plt.show()"
   ]
  },
  {
   "attachments": {},
   "cell_type": "markdown",
   "metadata": {},
   "source": [
    "## Results Explained\n",
    "\n",
    "- The Confusion Matrix created has **four different quadrants**:\n",
    "  - `True Negative` (Top-Left Quadrant)\n",
    "  - `False Positive` (Top-Right Quadrant)\n",
    "  - `False Negative` (Bottom-Left Quadrant)\n",
    "  - `True Positive` (Bottom-Right Quadrant)\n",
    "\n",
    "- `True`: the values were accurately predicted\n",
    "- `False`: an error or wrong prediction.\n",
    "\n",
    "Now that we have made a Confusion Matrix, we can calculate different measures to quantify the quality of the model. First, lets look at Accuracy."
   ]
  },
  {
   "attachments": {},
   "cell_type": "markdown",
   "metadata": {},
   "source": [
    "## Measures\n",
    "\n",
    "- The different measures include: `Accuracy`, `Precision`, `Sensitivity (Recall)`, `Specificity`, and the `F-score`.\n",
    "\n",
    "\n",
    "### Accuracy\n",
    "\n",
    "- `Accuracy`: how often the model is correct.\n",
    "\n",
    "- Calculate\n",
    "  - Accuracy = (True Positive + True Negative) / Total Predictions\n",
    "\n",
    "- ``"
   ]
  },
  {
   "cell_type": "code",
   "execution_count": 5,
   "metadata": {},
   "outputs": [
    {
     "name": "stdout",
     "output_type": "stream",
     "text": [
      "Accuracy: 0.823\n"
     ]
    }
   ],
   "source": [
    "Accuracy = metrics.accuracy_score(actual, predicted)\n",
    "\n",
    "print(\"Accuracy:\", Accuracy)        # Accuracy: 0.823"
   ]
  },
  {
   "attachments": {},
   "cell_type": "markdown",
   "metadata": {},
   "source": [
    "### Precision\n",
    "\n",
    "- Of the **positives predicted**, what percentage is truly positive?\n",
    "  - 真阳/预测阳\n",
    "\n",
    "- Calculate\n",
    "    - Precision = True Positive / (True Positive + False Positive)"
   ]
  },
  {
   "cell_type": "code",
   "execution_count": 6,
   "metadata": {},
   "outputs": [
    {
     "name": "stdout",
     "output_type": "stream",
     "text": [
      "Precision: 0.9090909090909091\n"
     ]
    }
   ],
   "source": [
    "Precision = metrics.precision_score(actual, predicted)\n",
    "\n",
    "print(\"Precision:\", Precision)      # Precision: 0.9090909090909091"
   ]
  },
  {
   "attachments": {},
   "cell_type": "markdown",
   "metadata": {},
   "source": [
    "### Sensitivity (Recall)召回率/灵敏度\n",
    "\n",
    "- Of all the **positive cases**, what percentage are predicted positive?\n",
    "  - 真阳/实际阳\n",
    "\n",
    "- `Sensitivity (sometimes called Recall)` measures how good the model is **at predicting positives.**\n",
    "    - This means it looks at true positives and false negatives (which are positives that have been incorrectly predicted as negative).\n",
    "\n",
    "- Calculate\n",
    "    - Recall = True Positive / (True Positive + False Negative)\n"
   ]
  },
  {
   "cell_type": "code",
   "execution_count": 7,
   "metadata": {},
   "outputs": [
    {
     "name": "stdout",
     "output_type": "stream",
     "text": [
      "Sensitivity_recall 0.8940397350993378\n"
     ]
    }
   ],
   "source": [
    "Sensitivity_recall = metrics.recall_score(actual, predicted)\n",
    "\n",
    "print(\"Sensitivity_recall\", Sensitivity_recall)\n",
    "# Sensitivity_recall 0.8940397350993378"
   ]
  },
  {
   "attachments": {},
   "cell_type": "markdown",
   "metadata": {},
   "source": [
    "### Specificity 特效度\n",
    "\n",
    "specificity = TN/N，表示的是所有负例中被分对的比例，衡量了分类器对负例的识别能力。\n",
    "How well the model is at prediciting negative results?\n",
    "\n",
    "- `Specificity` measures how good the model is **at predicting negative.**\n",
    "\n",
    "- Calculate (the opposite of Recall)\n",
    "  - Specificity = True Negative / (True Negative + False Positive)\n"
   ]
  },
  {
   "cell_type": "code",
   "execution_count": 8,
   "metadata": {},
   "outputs": [
    {
     "name": "stdout",
     "output_type": "stream",
     "text": [
      "Specificity 0.13829787234042554\n"
     ]
    }
   ],
   "source": [
    "Specificity = metrics.recall_score(actual, predicted, pos_label=0)\n",
    "\n",
    "print(\"Specificity\", Specificity)\n",
    "# pecificity 0.13829787234042554"
   ]
  },
  {
   "attachments": {},
   "cell_type": "markdown",
   "metadata": {},
   "source": [
    "### F-score\n",
    "\n",
    "- `F-score` is the \"harmonic mean\"(调和平均数) of precision and sensitivity.\n",
    "\n",
    "  - It considers both false positive and false negative cases and is good for imbalanced datasets.\n",
    "  - This score does not take into consideration the True Negative values\n",
    "\n",
    "- Calculate\n",
    "  - F-score = 2 _ ((Precision _ Sensitivity) / (Precision + Sensitivity))\n"
   ]
  },
  {
   "cell_type": "code",
   "execution_count": 9,
   "metadata": {},
   "outputs": [
    {
     "name": "stdout",
     "output_type": "stream",
     "text": [
      "F1_score 0.9015025041736227\n"
     ]
    }
   ],
   "source": [
    "F1_score = metrics.f1_score(actual, predicted)\n",
    "\n",
    "print(\"F1_score\", F1_score)\n",
    "# F1_score 0.9015025041736227"
   ]
  }
 ],
 "metadata": {
  "kernelspec": {
   "display_name": "Python 3",
   "language": "python",
   "name": "python3"
  },
  "language_info": {
   "codemirror_mode": {
    "name": "ipython",
    "version": 3
   },
   "file_extension": ".py",
   "mimetype": "text/x-python",
   "name": "python",
   "nbconvert_exporter": "python",
   "pygments_lexer": "ipython3",
   "version": "3.9.13"
  },
  "orig_nbformat": 4
 },
 "nbformat": 4,
 "nbformat_minor": 2
}
