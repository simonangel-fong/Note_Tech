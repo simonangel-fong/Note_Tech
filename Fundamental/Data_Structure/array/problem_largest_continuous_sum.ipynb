{
 "cells": [
  {
   "attachments": {},
   "cell_type": "markdown",
   "metadata": {},
   "source": [
    "# Largest Continuous Sum\n",
    "\n",
    "## Problem\n",
    "\n",
    "Given an array of integers (positive and negative) find the largest continuous sum.\n",
    "\n",
    "---\n"
   ]
  },
  {
   "attachments": {},
   "cell_type": "markdown",
   "metadata": {},
   "source": [
    "## Trial\n",
    "\n",
    "Fill out your solution below:\n"
   ]
  },
  {
   "cell_type": "code",
   "execution_count": 4,
   "metadata": {},
   "outputs": [],
   "source": [
    "def large_cont_sum(arr):\n",
    "\n",
    "    if len(arr) == 0:\n",
    "        return None\n",
    "\n",
    "    max_sum = current_sum = arr[0]\n",
    "\n",
    "    for value in arr[1:]:\n",
    "        current_sum += value\n",
    "        max_sum = max(max_sum, current_sum, value)\n",
    "\n",
    "    return max_sum"
   ]
  },
  {
   "attachments": {},
   "cell_type": "markdown",
   "metadata": {},
   "source": [
    "## Test"
   ]
  },
  {
   "cell_type": "code",
   "execution_count": 5,
   "metadata": {},
   "outputs": [
    {
     "data": {
      "text/plain": [
       "29"
      ]
     },
     "execution_count": 5,
     "metadata": {},
     "output_type": "execute_result"
    }
   ],
   "source": [
    "large_cont_sum([1,2,-1,3,4,10,10,-10,-1])"
   ]
  },
  {
   "cell_type": "code",
   "execution_count": 7,
   "metadata": {},
   "outputs": [
    {
     "ename": "AssertionError",
     "evalue": "27 != 29",
     "output_type": "error",
     "traceback": [
      "\u001b[1;31m---------------------------------------------------------------------------\u001b[0m",
      "\u001b[1;31mAssertionError\u001b[0m                            Traceback (most recent call last)",
      "Cell \u001b[1;32mIn[7], line 13\u001b[0m\n\u001b[0;32m     11\u001b[0m \u001b[39m#Run Test\u001b[39;00m\n\u001b[0;32m     12\u001b[0m t \u001b[39m=\u001b[39m LargeContTest()\n\u001b[1;32m---> 13\u001b[0m t\u001b[39m.\u001b[39;49mtest(large_cont_sum)\n",
      "Cell \u001b[1;32mIn[7], line 7\u001b[0m, in \u001b[0;36mLargeContTest.test\u001b[1;34m(self, sol)\u001b[0m\n\u001b[0;32m      5\u001b[0m assert_equal(sol([\u001b[39m1\u001b[39m,\u001b[39m2\u001b[39m,\u001b[39m-\u001b[39m\u001b[39m1\u001b[39m,\u001b[39m3\u001b[39m,\u001b[39m4\u001b[39m,\u001b[39m-\u001b[39m\u001b[39m1\u001b[39m]),\u001b[39m9\u001b[39m)\n\u001b[0;32m      6\u001b[0m assert_equal(sol([\u001b[39m1\u001b[39m,\u001b[39m2\u001b[39m,\u001b[39m-\u001b[39m\u001b[39m1\u001b[39m,\u001b[39m3\u001b[39m,\u001b[39m4\u001b[39m,\u001b[39m10\u001b[39m,\u001b[39m10\u001b[39m,\u001b[39m-\u001b[39m\u001b[39m10\u001b[39m,\u001b[39m-\u001b[39m\u001b[39m1\u001b[39m]),\u001b[39m29\u001b[39m)\n\u001b[1;32m----> 7\u001b[0m assert_equal(sol([\u001b[39m-\u001b[39;49m\u001b[39m1\u001b[39;49m,\u001b[39m2\u001b[39;49m,\u001b[39m-\u001b[39;49m\u001b[39m1\u001b[39;49m,\u001b[39m3\u001b[39;49m,\u001b[39m4\u001b[39;49m,\u001b[39m10\u001b[39;49m,\u001b[39m10\u001b[39;49m,\u001b[39m-\u001b[39;49m\u001b[39m10\u001b[39;49m,\u001b[39m-\u001b[39;49m\u001b[39m1\u001b[39;49m]),\u001b[39m29\u001b[39;49m)\n\u001b[0;32m      8\u001b[0m assert_equal(sol([\u001b[39m-\u001b[39m\u001b[39m1\u001b[39m,\u001b[39m1\u001b[39m]),\u001b[39m1\u001b[39m)\n\u001b[0;32m      9\u001b[0m \u001b[39mprint\u001b[39m(\u001b[39m'\u001b[39m\u001b[39mALL TEST CASES PASSED\u001b[39m\u001b[39m'\u001b[39m)\n",
      "File \u001b[1;32mc:\\Python39\\lib\\unittest\\case.py:837\u001b[0m, in \u001b[0;36mTestCase.assertEqual\u001b[1;34m(self, first, second, msg)\u001b[0m\n\u001b[0;32m    833\u001b[0m \u001b[39m\u001b[39m\u001b[39m\"\"\"Fail if the two objects are unequal as determined by the '=='\u001b[39;00m\n\u001b[0;32m    834\u001b[0m \u001b[39m   operator.\u001b[39;00m\n\u001b[0;32m    835\u001b[0m \u001b[39m\"\"\"\u001b[39;00m\n\u001b[0;32m    836\u001b[0m assertion_func \u001b[39m=\u001b[39m \u001b[39mself\u001b[39m\u001b[39m.\u001b[39m_getAssertEqualityFunc(first, second)\n\u001b[1;32m--> 837\u001b[0m assertion_func(first, second, msg\u001b[39m=\u001b[39;49mmsg)\n",
      "File \u001b[1;32mc:\\Python39\\lib\\unittest\\case.py:830\u001b[0m, in \u001b[0;36mTestCase._baseAssertEqual\u001b[1;34m(self, first, second, msg)\u001b[0m\n\u001b[0;32m    828\u001b[0m standardMsg \u001b[39m=\u001b[39m \u001b[39m'\u001b[39m\u001b[39m%s\u001b[39;00m\u001b[39m != \u001b[39m\u001b[39m%s\u001b[39;00m\u001b[39m'\u001b[39m \u001b[39m%\u001b[39m _common_shorten_repr(first, second)\n\u001b[0;32m    829\u001b[0m msg \u001b[39m=\u001b[39m \u001b[39mself\u001b[39m\u001b[39m.\u001b[39m_formatMessage(msg, standardMsg)\n\u001b[1;32m--> 830\u001b[0m \u001b[39mraise\u001b[39;00m \u001b[39mself\u001b[39m\u001b[39m.\u001b[39mfailureException(msg)\n",
      "\u001b[1;31mAssertionError\u001b[0m: 27 != 29"
     ]
    }
   ],
   "source": [
    "from nose.tools import assert_equal\n",
    "\n",
    "class LargeContTest(object):\n",
    "    def test(self,sol):\n",
    "        assert_equal(sol([1,2,-1,3,4,-1]),9)\n",
    "        assert_equal(sol([1,2,-1,3,4,10,10,-10,-1]),29)\n",
    "        assert_equal(sol([-1,2,-1,3,4,10,10,-10,-1]),29)\n",
    "        assert_equal(sol([-1,1]),1)\n",
    "        print('ALL TEST CASES PASSED')\n",
    "        \n",
    "#Run Test\n",
    "t = LargeContTest()\n",
    "t.test(large_cont_sum)"
   ]
  },
  {
   "attachments": {},
   "cell_type": "markdown",
   "metadata": {},
   "source": [
    "## Solution\n",
    "\n",
    "If the array is all positive, then the result is simply the sum of all numbers. The negative numbers in the array will cause us to need to begin checking sequences.\n",
    "\n",
    "The algorithm is, we start summing up the numbers and store in a current sum variable. After adding each element, we check whether the current sum is larger than maximum sum encountered so far. If it is, we update the maximum sum. As long as the current sum is positive, we keep adding the numbers. When the current sum becomes negative, we start with a new current sum. Because a negative current sum will only decrease the sum of a future sequence. Note that we don’t reset the current sum to 0 because the array can contain all negative integers. Then the result would be the largest negative number.\n"
   ]
  },
  {
   "cell_type": "code",
   "execution_count": null,
   "metadata": {},
   "outputs": [],
   "source": [
    "def large_cont_sum(arr): \n",
    "    \n",
    "    # Check to see if array is length 0\n",
    "    if len(arr)==0: \n",
    "        return 0\n",
    "    \n",
    "    # Start the max and current sum at the first element\n",
    "    max_sum=current_sum=arr[0] \n",
    "    \n",
    "    # For every element in array\n",
    "    for num in arr[1:]: \n",
    "        \n",
    "        # Set current sum as the higher of the two\n",
    "        # if num is negative, \n",
    "        current_sum=max(current_sum+num, num)\n",
    "        \n",
    "        # Set max as the higher between the currentSum and the current max\n",
    "        max_sum=max(current_sum, max_sum) \n",
    "        \n",
    "    return max_sum "
   ]
  },
  {
   "attachments": {},
   "cell_type": "markdown",
   "metadata": {},
   "source": [
    "## Summary\n",
    "\n",
    "- 题目需要是最大值, 即只要能得出最大值即可.\n",
    "- 自己方法:\n",
    "  - 通过实际求和\n",
    "  - 效率`O(N^2)`\n",
    "\n",
    "```py\n",
    "def large_cont_sum(arr):\n",
    "\n",
    "    sumSet = set()\n",
    "\n",
    "    for i in range(len(arr)):\n",
    "        sumSet.add(arr[i])\n",
    "        for j in range(i+1, len(arr)):\n",
    "            sum_list = sum(arr[i:j])\n",
    "            sumSet.add(sum_list)\n",
    "\n",
    "    return max(sumSet)\n",
    "\n",
    "```\n",
    "\n",
    "- 答案:\n",
    "  - 题目提示包括正负数,所以正数时持续增大, 遇到负数时递减\n",
    "  - 最大和`max_sum`:\n",
    "    - 用于存储目标值.\n",
    "    - 对于第 1 项, 等于 arr[0]\n",
    "  - 由于只关心最大值, 所以无需实际求和:\n",
    "    - 连续和`current_sum`:\n",
    "      - 对于第 1 项, 等于 arr[0]\n",
    "      - 对所有值有: 连续和`current_sum` = 当前值`num` + 前项连续和`current_sum`\n",
    "      - 当连续和`current_sum`是负数时, 对任意`num`都有`num`> `current_sum`+`num`. 所以需要使用`current_sum=max(current_sum+num, num)`. 其效果相当于重新开始连续.\n",
    "      - 由于只关心最大值, 所以只需在当前值`num`和连续和`current_sum`取最大值即可.\n",
    "    - 也因为只关心最大值,只需取过往最大和`max_sum` 和 当前值`current_sum`中的最大值即可.\n",
    "  - 效率: `O(N)`\n"
   ]
  }
 ],
 "metadata": {
  "kernelspec": {
   "display_name": "Python 3",
   "language": "python",
   "name": "python3"
  },
  "language_info": {
   "codemirror_mode": {
    "name": "ipython",
    "version": 3
   },
   "file_extension": ".py",
   "mimetype": "text/x-python",
   "name": "python",
   "nbconvert_exporter": "python",
   "pygments_lexer": "ipython3",
   "version": "3.9.13"
  }
 },
 "nbformat": 4,
 "nbformat_minor": 1
}
