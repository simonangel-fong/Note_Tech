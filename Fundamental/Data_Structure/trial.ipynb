{
 "cells": [
  {
   "cell_type": "code",
   "execution_count": 31,
   "metadata": {},
   "outputs": [],
   "source": [
    "class Vertex(object):\n",
    "    '''Implement vertex'''\n",
    "\n",
    "    def __init__(self, key):\n",
    "        self.id = key   # key of current vertex\n",
    "        self.neighbor = {}  # initialize neighbors of current vertex\n",
    "\n",
    "    def __str__(self):\n",
    "        return 'Vertex {0} connects to {1}'.format(self.id, str([x.id for x in self.neighbor]))\n",
    "\n",
    "    def get_id(self):\n",
    "        return self.id\n",
    "\n",
    "    def add_neighbor(self, vertex, weight):\n",
    "        '''add a target vertex with specific weight'''\n",
    "        # Note that the key here is vertex, an object\n",
    "        self.neighbor[vertex] = weight\n",
    "        # set weight for both current and target vertex\n",
    "        vertex.neighbor[self] = weight\n",
    "\n",
    "    def get_neighbors(self):\n",
    "        '''get all neighbors'''\n",
    "        return [k for k in self.neighbor.keys()]\n",
    "\n",
    "    def get_weight(self, target_vertex):\n",
    "        '''get weight from current to target vertex'''\n",
    "\n",
    "        # if target is in the neighbors\n",
    "        if target_vertex in self.neighbor:\n",
    "            return self.neighbor[target_vertex]\n",
    "        else:\n",
    "            return None"
   ]
  },
  {
   "cell_type": "code",
   "execution_count": 53,
   "metadata": {},
   "outputs": [],
   "source": [
    "class Graph(object):\n",
    "    def __init__(self) -> None:\n",
    "        self.vertice = {}\n",
    "\n",
    "    def add_vertex(self, key):\n",
    "        '''create a new vertex with key'''\n",
    "        new_vertext = Vertex(key)       # create a new vertex\n",
    "        self.vertice[key] = new_vertext\n",
    "        return new_vertext\n",
    "\n",
    "    def get_vertex(self, key):\n",
    "        if key in self.vertice.keys():\n",
    "            return self.vertice[key]\n",
    "        else:\n",
    "            None\n",
    "\n",
    "    def add_edge(self, from_key, to_key, cost=0):\n",
    "        '''add edge'''\n",
    "        # if from key does not exist, then create a new vertex\n",
    "        if from_key not in self.vertice:\n",
    "            self.add_vertex(from_key)\n",
    "\n",
    "        # if to key does not exist, then create a new vertex\n",
    "        if to_key not in self.vertice:\n",
    "            self.add_vertex(to_key)\n",
    "\n",
    "        self.vertice[from_key].add_neighbor(self.vertice[to_key], cost)\n",
    "\n",
    "    def get_all_vertice(self):\n",
    "        '''get all vertice'''\n",
    "        return [k for k in self.vertice.keys()]\n",
    "\n",
    "    def __iter__(self):\n",
    "        return iter(self.vertList.values())\n",
    "\n",
    "    def __contains__(self, key):\n",
    "        return key in self.vertice"
   ]
  },
  {
   "cell_type": "code",
   "execution_count": 54,
   "metadata": {},
   "outputs": [],
   "source": [
    "g = Graph()\n",
    "\n",
    "for i in range(6):\n",
    "    g.add_vertex(i)"
   ]
  },
  {
   "cell_type": "code",
   "execution_count": 55,
   "metadata": {},
   "outputs": [
    {
     "name": "stdout",
     "output_type": "stream",
     "text": [
      "Vertex 0 connects to []\n"
     ]
    }
   ],
   "source": [
    "print(g.get_vertex(0))  # Vertex 0 connects to []"
   ]
  },
  {
   "cell_type": "code",
   "execution_count": 62,
   "metadata": {},
   "outputs": [
    {
     "name": "stdout",
     "output_type": "stream",
     "text": [
      "Vertex 0 connects to [1, 2, 3, 7]\n",
      "Vertex 1 connects to [0]\n",
      "Vertex 2 connects to [0]\n",
      "Vertex 3 connects to [0]\n",
      "Vertex 0 connects to [1, 2, 3, 7]\n"
     ]
    }
   ],
   "source": [
    "g.add_edge(0, 1, 1)\n",
    "g.add_edge(0, 2, 2)\n",
    "g.add_edge(0, 3, 3)\n",
    "g.add_edge(0, 7, 3)\n",
    "print(g.get_vertex(0))      # Vertex 0 connects to [1, 2, 3, 7]\n",
    "print(g.get_vertex(1))      # Vertex 1 connects to [0]\n",
    "print(g.get_vertex(2))      # Vertex 2 connects to [0]\n",
    "print(g.get_vertex(3))      # Vertex 3 connects to [0]\n",
    "\n",
    "print(g.get_vertex(0))      # Vertex 0 connects to [1, 2, 3, 7]"
   ]
  },
  {
   "cell_type": "code",
   "execution_count": 59,
   "metadata": {},
   "outputs": [
    {
     "data": {
      "text/plain": [
       "[0, 1, 2, 3, 4, 5, 7]"
      ]
     },
     "execution_count": 59,
     "metadata": {},
     "output_type": "execute_result"
    }
   ],
   "source": [
    "g.get_all_vertice()     # [0, 1, 2, 3, 4, 5, 7]"
   ]
  },
  {
   "cell_type": "code",
   "execution_count": 64,
   "metadata": {},
   "outputs": [
    {
     "data": {
      "text/plain": [
       "True"
      ]
     },
     "execution_count": 64,
     "metadata": {},
     "output_type": "execute_result"
    }
   ],
   "source": [
    "3 in g      # True"
   ]
  },
  {
   "cell_type": "code",
   "execution_count": 2,
   "metadata": {},
   "outputs": [
    {
     "data": {
      "text/plain": [
       "'abcdefg'"
      ]
     },
     "execution_count": 2,
     "metadata": {},
     "output_type": "execute_result"
    }
   ],
   "source": [
    "line = \"abcdefg\\n\"\n",
    "\n",
    "line[:-1]"
   ]
  }
 ],
 "metadata": {
  "kernelspec": {
   "display_name": "Python 3",
   "language": "python",
   "name": "python3"
  },
  "language_info": {
   "codemirror_mode": {
    "name": "ipython",
    "version": 3
   },
   "file_extension": ".py",
   "mimetype": "text/x-python",
   "name": "python",
   "nbconvert_exporter": "python",
   "pygments_lexer": "ipython3",
   "version": "3.9.13"
  },
  "orig_nbformat": 4
 },
 "nbformat": 4,
 "nbformat_minor": 2
}
