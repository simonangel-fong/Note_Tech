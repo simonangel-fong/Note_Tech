{
 "cells": [
  {
   "cell_type": "markdown",
   "metadata": {},
   "source": [
    "## Subarray Sum\n",
    "\n",
    "Given an array of integers nums and a target integer target, write a Python function called subarray_sum that finds the indices of a contiguous subarray in nums that add up to the target sum using a hash table (dictionary).\n",
    "\n",
    "Your function should take two arguments:\n",
    "- `nums`: a list of integers representing the input array\n",
    "- `target`: an integer representing the target sum\n",
    "\n",
    "Your function should return a list of two integers representing the starting and ending indices of the subarray that adds up to the target sum. If there is no such subarray, your function should return an empty list.\n",
    "\n",
    "For example:\n",
    "\n",
    "nums = [1, 2, 3, 4, 5]\n",
    "target = 9\n",
    "print(subarray_sum(nums, target)) # should print [1, 3]\n",
    "\n",
    "Note that there may be multiple subarrays that add up to the target sum, but your function only needs to return the indices of any one such subarray. Also, the input list may contain both positive and negative integers.\n"
   ]
  },
  {
   "cell_type": "code",
   "execution_count": null,
   "metadata": {},
   "outputs": [],
   "source": [
    "def subarray_sum(nums, target):\n",
    "    pass\n",
    "\n",
    "\n",
    "nums = [1, 2, 3, 4, 5]\n",
    "target = 9\n",
    "print(subarray_sum(nums, target))\n",
    "\n",
    "nums = [-1, 2, 3, -4, 5]\n",
    "target = 0\n",
    "print(subarray_sum(nums, target))\n",
    "\n",
    "nums = [2, 3, 4, 5, 6]\n",
    "target = 3\n",
    "print(subarray_sum(nums, target))\n",
    "\n",
    "nums = []\n",
    "target = 0\n",
    "print(subarray_sum(nums, target))\n",
    "\n",
    "\n",
    "\"\"\"\n",
    "    EXPECTED OUTPUT:\n",
    "    ----------------\n",
    "    [1, 3]\n",
    "    [0, 3]\n",
    "    [1, 1]\n",
    "    []\n",
    "\n",
    "\"\"\""
   ]
  },
  {
   "cell_type": "markdown",
   "metadata": {},
   "source": [
    "### 解题思路\n",
    "\n",
    "- 传统方法\n",
    "\n",
    "  - 嵌套 loop, 但 time complexity 是 `O(n^2)`\n",
    "\n",
    "- 数理分析:\n",
    "\n",
    "  - 给定数组: a<sub>0</sub>, ..., a<sub>i</sub>, ..., a<sub>k</sub>, ..., a<sub>n</sub>\n",
    "  - 假设 a<sub>i</sub> 到 a<sub>k</sub>之和是 Target, 则有:\n",
    "\n",
    "    - Sum<sub>i-1</sub> + Target = Sum<sub>k</sub>\n",
    "\n",
    "  - 整理方程得: Sum<sub>i-1</sub> = Sum<sub>k</sub> - Target\n",
    "  - 遍历过程:\n",
    "    - 当遍历到 i-1 时, 先计算出 Sum<sub>i-1</sub>, 并使用 HT 以 Sum<sub>i-1</sub>为键, i-1 为值记录.\n",
    "    - 当遍历到 k 时, 计算出 Sum<sub>k</sub>.\n",
    "    - 对 Sum<sub>k</sub> - Target, 其一定在 HT 中.因为以上等式且 Sum<sub>i-1</sub>已经在以上步骤完成.\n",
    "    - 所以 subarray 的起止 index 是[i, k]\n",
    "  - 以上由于 Sum<sub>i-1</sub>的下标是 i-1, 当 subarray 是从 0 开始时, i-1 需要时-1. 此时 Sum<sub>k</sub> = Target, 所以 Sum<sub>i-1</sub> = 0. 因此对该情况需要定义初始的 HT 是: {0:-1}, 否则没法处理从 0 开始的情况.\n"
   ]
  },
  {
   "cell_type": "code",
   "execution_count": 5,
   "metadata": {},
   "outputs": [
    {
     "name": "stdout",
     "output_type": "stream",
     "text": [
      "[1, 3]\n",
      "[0, 3]\n",
      "[1, 1]\n",
      "[]\n"
     ]
    },
    {
     "data": {
      "text/plain": [
       "'\\n    EXPECTED OUTPUT:\\n    ----------------\\n    [1, 3]\\n    [0, 3]\\n    [1, 1]\\n    []\\n\\n'"
      ]
     },
     "execution_count": 5,
     "metadata": {},
     "output_type": "execute_result"
    }
   ],
   "source": [
    "def subarray_sum(nums, target):\n",
    "\n",
    "    temp = {0: -1}\n",
    "    sum = 0\n",
    "    for index in range(len(nums)):\n",
    "        sum += nums[index]\n",
    "        if sum - target in temp:\n",
    "            return [temp[sum - target]+1, index]\n",
    "        temp[sum] = index\n",
    "\n",
    "    return []\n",
    "\n",
    "\n",
    "nums = [1, 2, 3, 4, 5]\n",
    "target = 9\n",
    "print(subarray_sum(nums, target))\n",
    "\n",
    "nums = [-1, 2, 3, -4, 5]\n",
    "target = 0\n",
    "print(subarray_sum(nums, target))\n",
    "\n",
    "nums = [2, 3, 4, 5, 6]\n",
    "target = 3\n",
    "print(subarray_sum(nums, target))\n",
    "\n",
    "nums = []\n",
    "target = 0\n",
    "print(subarray_sum(nums, target))\n",
    "\n",
    "\n",
    "\"\"\"\n",
    "    EXPECTED OUTPUT:\n",
    "    ----------------\n",
    "    [1, 3]\n",
    "    [0, 3]\n",
    "    [1, 1]\n",
    "    []\n",
    "\n",
    "\"\"\""
   ]
  }
 ],
 "metadata": {
  "kernelspec": {
   "display_name": "Python 3",
   "language": "python",
   "name": "python3"
  },
  "language_info": {
   "codemirror_mode": {
    "name": "ipython",
    "version": 3
   },
   "file_extension": ".py",
   "mimetype": "text/x-python",
   "name": "python",
   "nbconvert_exporter": "python",
   "pygments_lexer": "ipython3",
   "version": "3.9.13"
  },
  "orig_nbformat": 4
 },
 "nbformat": 4,
 "nbformat_minor": 2
}
