{
 "cells": [
  {
   "cell_type": "markdown",
   "metadata": {},
   "source": [
    "# Set: Longest Consecutive Sequence\n",
    "\n",
    "Given an unsorted array of integers, write a function that finds the length of the longest_consecutive_sequence (i.e., sequence of integers in which each element is one greater than the previous element).\n",
    "\n",
    "Use sets to optimize the runtime of your solution.\n",
    "\n",
    "Input: An unsorted array of integers, nums.\n",
    "\n",
    "Output: An integer representing the length of the longest consecutive sequence in nums.\n",
    "\n",
    "Example:\n",
    "\n",
    "- Input: nums = [100, 4, 200, 1, 3, 2]\n",
    "- Output: 4\n",
    "\n",
    "Explanation: The longest consecutive sequence in the input array is [4, 3, 2, 1], and its length is 4.\n"
   ]
  },
  {
   "cell_type": "code",
   "execution_count": null,
   "metadata": {},
   "outputs": [],
   "source": [
    "def longest_consecutive_sequence(nums):\n",
    "    pass\n",
    "\n",
    "\n",
    "print(longest_consecutive_sequence([100, 4, 200, 1, 3, 2]))\n",
    "\n",
    "\n",
    "\"\"\"\n",
    "    EXPECTED OUTPUT:\n",
    "    ----------------\n",
    "    4\n",
    "\n",
    "\"\"\""
   ]
  },
  {
   "cell_type": "markdown",
   "metadata": {},
   "source": [
    "### 解析\n",
    "\n",
    "- lookup 查找时, 使用 list 是`O(n)`; 使用 set 是`O(1)`, 因为 set 是 hash.\n",
    "- 思路:\n",
    "  - 遍历所有元素\n",
    "  - 对每个元素/sequence\n",
    "    - 独立的元素本身也是 sequence, 只是其 len 是 1\n",
    "    - 如果该元素在 sequence 中时, 则需要从最小的开始.所以筛选条件是 num-1 not in set().\n",
    "    - 每个 sequence 都有其 len, 最后使用 max 更新 max_len\n",
    "  - 由于可能连续的 sequence 长度不明, 所以使用 while, 条件是下一个数存在,current_num + 1 in num_set\n"
   ]
  },
  {
   "cell_type": "code",
   "execution_count": 1,
   "metadata": {},
   "outputs": [
    {
     "name": "stdout",
     "output_type": "stream",
     "text": [
      "4\n"
     ]
    },
    {
     "data": {
      "text/plain": [
       "'\\n    EXPECTED OUTPUT:\\n    ----------------\\n    4\\n\\n'"
      ]
     },
     "execution_count": 1,
     "metadata": {},
     "output_type": "execute_result"
    }
   ],
   "source": [
    "def longest_consecutive_sequence(nums):\n",
    "\n",
    "    num_set = set(nums)     # 之所以使用set, 是因为set本身也是hash, lookup的效率是O(1)\n",
    "    max_len = 0\n",
    "\n",
    "    for num in nums:\n",
    "        if num - 1 not in num_set:  # 保证最小开始\n",
    "            current_num = num\n",
    "            current_len = 1\n",
    "\n",
    "            while current_num + 1 in num_set:\n",
    "                current_len += 1\n",
    "                current_num += 1\n",
    "            max_len = max(current_len, max_len)\n",
    "\n",
    "    return max_len\n",
    "\n",
    "\n",
    "print(longest_consecutive_sequence([100, 4, 200, 1, 3, 2]))\n",
    "\n",
    "\n",
    "\"\"\"\n",
    "    EXPECTED OUTPUT:\n",
    "    ----------------\n",
    "    4\n",
    "\n",
    "\"\"\""
   ]
  }
 ],
 "metadata": {
  "kernelspec": {
   "display_name": "Python 3",
   "language": "python",
   "name": "python3"
  },
  "language_info": {
   "codemirror_mode": {
    "name": "ipython",
    "version": 3
   },
   "file_extension": ".py",
   "mimetype": "text/x-python",
   "name": "python",
   "nbconvert_exporter": "python",
   "pygments_lexer": "ipython3",
   "version": "3.9.13"
  },
  "orig_nbformat": 4
 },
 "nbformat": 4,
 "nbformat_minor": 2
}
