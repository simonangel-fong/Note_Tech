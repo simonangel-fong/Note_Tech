{
 "cells": [
  {
   "cell_type": "code",
   "execution_count": 14,
   "metadata": {},
   "outputs": [
    {
     "name": "stdout",
     "output_type": "stream",
     "text": [
      "Series([], dtype: object)\n",
      "0    []\n",
      "dtype: object\n",
      "0    1\n",
      "1    7\n",
      "2    2\n",
      "dtype: int64\n",
      "0    [1, 7, 2]\n",
      "1    [3, 4, 6]\n",
      "dtype: object\n",
      "0    [1, 7, 2]\n",
      "1       [3, 4]\n",
      "dtype: object\n"
     ]
    }
   ],
   "source": [
    "# Pandas Series\n",
    "\n",
    "import pandas as pd\n",
    "\n",
    "arr = []\n",
    "df = pd.Series(arr)\n",
    "print(df)\n",
    "# Series([], dtype: object)\n",
    "\n",
    "arr = [[]]\n",
    "df = pd.Series(arr)\n",
    "print(df)\n",
    "# 0    []\n",
    "# dtype: object\n",
    "\n",
    "arr = [1, 7, 2]\n",
    "df = pd.Series(arr)\n",
    "print(df)\n",
    "# # 0    1\n",
    "# # 1    7\n",
    "# # 2    2\n",
    "# # dtype: int64\n",
    "\n",
    "arr = [[1, 7, 2], [3,4,6]]\n",
    "df = pd.Series(arr)\n",
    "print(df)\n",
    "# 0    [1, 7, 2]\n",
    "# 1    [3, 4, 6]\n",
    "# dtype: object\n",
    "\n",
    "\n",
    "arr = [[1, 7, 2], [3,4]]\n",
    "df = pd.Series(arr)\n",
    "print(df)\n",
    "# 0    [1, 7, 2]\n",
    "# 1       [3, 4]\n",
    "# dtype: object\n",
    "\n",
    "\n"
   ]
  },
  {
   "cell_type": "code",
   "execution_count": 15,
   "metadata": {},
   "outputs": [
    {
     "name": "stdout",
     "output_type": "stream",
     "text": [
      "[1, 7, 2]\n"
     ]
    }
   ],
   "source": [
    "# Labels\n",
    "\n",
    "import pandas as pd\n",
    "\n",
    "arr = []\n",
    "df = pd.Series(arr)\n",
    "print(df[0])\n",
    "# ValueError: 0 is not in range\n",
    "\n",
    "arr = [[]]\n",
    "df = pd.Series(arr)\n",
    "print(df[0])\n",
    "# []\n",
    "\n",
    "arr = [1, 7, 2]\n",
    "df = pd.Series(arr)\n",
    "print(df[0])\n",
    "# 1\n",
    "\n",
    "arr = [[1, 7, 2], [3, 4]]\n",
    "df = pd.Series(arr)\n",
    "print(df[0])\n",
    "# [1, 7, 2]"
   ]
  },
  {
   "cell_type": "code",
   "execution_count": 35,
   "metadata": {},
   "outputs": [
    {
     "name": "stdout",
     "output_type": "stream",
     "text": [
      "x    [1, 7, 2]\n",
      "y           []\n",
      "z       [3, 5]\n",
      "dtype: object\n",
      "[]\n",
      "[3, 5]\n"
     ]
    }
   ],
   "source": [
    "# Create lable\n",
    "\n",
    "import pandas as pd\n",
    "\n",
    "# arr = []\n",
    "# df = pd.Series(arr, index=[\"x\"])\n",
    "# print(df)\n",
    "# ValueError: Length of values (0) does not match length of index (3)\n",
    "\n",
    "# arr = [[]]\n",
    "# df = pd.Series(arr, index=[\"x\"])\n",
    "# print(df)\n",
    "# # x    []\n",
    "# # dtype: object\n",
    "\n",
    "# print(df['x'])\n",
    "# # []\n",
    "# print(df.x)\n",
    "# # []\n",
    "\n",
    "# arr = [1, 7, 2]\n",
    "# df = pd.Series(arr, index=[\"x\", \"y\", \"z\"])\n",
    "# print(df)\n",
    "# # x    1\n",
    "# # y    7\n",
    "# # z    2\n",
    "# # dtype: int64\n",
    "# print(df[0])\n",
    "# # 1\n",
    "# print(df[\"x\"])\n",
    "# # 1\n",
    "# print(df.x)\n",
    "# # 1\n",
    "\n",
    "\n",
    "arr = [[1, 7, 2], [], [3, 5]]\n",
    "df = pd.Series(arr, index=[\"x\", \"y\", \"z\"])\n",
    "print(df)\n",
    "# x    [1, 7, 2]\n",
    "# y           []\n",
    "# z       [3, 5]\n",
    "# dtype: object\n",
    "\n",
    "print(df.y)\n",
    "# []\n",
    "print(df['z'])\n",
    "# [3,5]"
   ]
  },
  {
   "cell_type": "code",
   "execution_count": 37,
   "metadata": {},
   "outputs": [
    {
     "name": "stdout",
     "output_type": "stream",
     "text": [
      "day1    420\n",
      "day2    380\n",
      "dtype: int64\n"
     ]
    }
   ],
   "source": [
    "# Key/Value Objects as Series\n",
    "\n",
    "import pandas as pd\n",
    "\n",
    "# x_dict = {\"day1\": 420, \"day2\": 380, \"day3\": 390}\n",
    "# df = pd.Series(x_dict)\n",
    "# print(df)\n",
    "# # day1    420\n",
    "# # day2    380\n",
    "# # day3    390\n",
    "# # dtype: int64\n",
    "\n",
    "x_dict = {\"day1\": 420, \"day2\": 380, \"day3\": 390}\n",
    "# Create a Series using only data from \"day1\" and \"day2\":\n",
    "df = pd.Series(x_dict, index = [\"day1\", \"day2\"])\n",
    "print(df)\n",
    "# day1    420\n",
    "# day2    380\n",
    "# dtype: int64\n"
   ]
  },
  {
   "cell_type": "code",
   "execution_count": 44,
   "metadata": {},
   "outputs": [
    {
     "name": "stdout",
     "output_type": "stream",
     "text": [
      "   calories  duration\n",
      "0       420        50\n",
      "1       380        40\n"
     ]
    }
   ],
   "source": [
    "# DataFrame\n",
    "import pandas as pd\n",
    "\n",
    "data = {\n",
    "    \"calories\": [420, 380, 390],\n",
    "    \"duration\": [50, 40, 45]\n",
    "}\n",
    "df = pd.DataFrame(data)\n",
    "\n",
    "# print(df)\n",
    "#    calories  duration\n",
    "# 0       420        50\n",
    "# 1       380        40\n",
    "# 2       390        45\n",
    "\n",
    "\n",
    "# print(df.loc[0])\n",
    "# calories    420\n",
    "# duration     50\n",
    "# Name: 0, dtype: int64\n",
    "\n",
    "print(df.loc[[0, 1]])\n",
    "#    calories  duration\n",
    "# 0       420        50\n",
    "# 1       380        40"
   ]
  },
  {
   "cell_type": "code",
   "execution_count": 47,
   "metadata": {},
   "outputs": [
    {
     "name": "stdout",
     "output_type": "stream",
     "text": [
      "calories    380\n",
      "duration     40\n",
      "Name: day2, dtype: int64\n"
     ]
    }
   ],
   "source": [
    "# index\n",
    "\n",
    "import pandas as pd\n",
    "\n",
    "data = {\n",
    "    \"calories\": [420, 380, 390],\n",
    "    \"duration\": [50, 40, 45]\n",
    "}\n",
    "df = pd.DataFrame(data, index=[\"day1\", \"day2\", \"day3\"])\n",
    "\n",
    "# print(df)\n",
    "#       calories  duration\n",
    "# day1       420        50\n",
    "# day2       380        40\n",
    "# day3       390        45\n",
    "\n",
    "# Locate Named Indexes\n",
    "print(df.loc[\"day2\"])\n",
    "# calories    380\n",
    "# duration     40\n",
    "# Name: day2, dtype: int64"
   ]
  },
  {
   "cell_type": "code",
   "execution_count": 50,
   "metadata": {},
   "outputs": [
    {
     "name": "stdout",
     "output_type": "stream",
     "text": [
      "     Duration  Pulse  Maxpulse  Calories\n",
      "0          60    110       130     409.1\n",
      "1          60    117       145     479.0\n",
      "2          60    103       135     340.0\n",
      "3          45    109       175     282.4\n",
      "4          45    117       148     406.0\n",
      "5          60    102       127     300.0\n",
      "6          60    110       136     374.0\n",
      "7          45    104       134     253.3\n",
      "8          30    109       133     195.1\n",
      "9          60     98       124     269.0\n",
      "10         60    103       147     329.3\n",
      "11         60    100       120     250.7\n",
      "12         60    106       128     345.3\n",
      "13         60    104       132     379.3\n",
      "14         60     98       123     275.0\n",
      "15         60     98       120     215.2\n",
      "16         60    100       120     300.0\n",
      "17         45     90       112       NaN\n",
      "18         60    103       123     323.0\n",
      "19         45     97       125     243.0\n",
      "20         60    108       131     364.2\n",
      "21         45    100       119     282.0\n",
      "22         60    130       101     300.0\n",
      "23         45    105       132     246.0\n",
      "24         60    102       126     334.5\n",
      "25         60    100       120     250.0\n",
      "26         60     92       118     241.0\n",
      "27         60    103       132       NaN\n",
      "28         60    100       132     280.0\n",
      "29         60    102       129     380.3\n",
      "30         60     92       115     243.0\n",
      "31         45     90       112     180.1\n",
      "32         60    101       124     299.0\n",
      "33         60     93       113     223.0\n",
      "34         60    107       136     361.0\n",
      "35         60    114       140     415.0\n",
      "36         60    102       127     300.0\n",
      "37         60    100       120     300.0\n",
      "38         60    100       120     300.0\n",
      "39         45    104       129     266.0\n",
      "40         45     90       112     180.1\n",
      "41         60     98       126     286.0\n",
      "42         60    100       122     329.4\n",
      "43         60    111       138     400.0\n",
      "44         60    111       131     397.0\n",
      "45         60     99       119     273.0\n",
      "46         60    109       153     387.6\n",
      "47         45    111       136     300.0\n",
      "48         45    108       129     298.0\n",
      "49         60    111       139     397.6\n",
      "50         60    107       136     380.2\n",
      "51         80    123       146     643.1\n",
      "52         60    106       130     263.0\n",
      "53         60    118       151     486.0\n",
      "54         30    136       175     238.0\n",
      "55         60    121       146     450.7\n",
      "56         60    118       121     413.0\n",
      "57         45    115       144     305.0\n",
      "58         20    153       172     226.4\n",
      "59         45    123       152     321.0\n",
      "60        210    108       160    1376.0\n",
      "61        160    110       137    1034.4\n",
      "62        160    109       135     853.0\n",
      "63         45    118       141     341.0\n",
      "64         20    110       130     131.4\n",
      "65        180     90       130     800.4\n",
      "66        150    105       135     873.4\n",
      "67        150    107       130     816.0\n",
      "68         20    106       136     110.4\n",
      "69        300    108       143    1500.2\n",
      "70        150     97       129    1115.0\n",
      "71         60    109       153     387.6\n",
      "72         90    100       127     700.0\n",
      "73        150     97       127     953.2\n",
      "74         45    114       146     304.0\n",
      "75         90     98       125     563.2\n",
      "76         45    105       134     251.0\n",
      "77         45    110       141     300.0\n",
      "78        120    100       130     500.4\n",
      "79        270    100       131    1729.0\n",
      "80         30    159       182     319.2\n",
      "81         45    149       169     344.0\n",
      "82         30    103       139     151.1\n",
      "83        120    100       130     500.0\n",
      "84         45    100       120     225.3\n",
      "85         30    151       170     300.0\n",
      "86         45    102       136     234.0\n",
      "87        120    100       157    1000.1\n",
      "88         45    129       103     242.0\n",
      "89         20     83       107      50.3\n",
      "90        180    101       127     600.1\n",
      "91         45    107       137       NaN\n",
      "92         30     90       107     105.3\n",
      "93         15     80       100      50.5\n",
      "94         20    150       171     127.4\n",
      "95         20    151       168     229.4\n",
      "96         30     95       128     128.2\n",
      "97         25    152       168     244.2\n",
      "98         30    109       131     188.2\n",
      "99         90     93       124     604.1\n",
      "100        20     95       112      77.7\n",
      "101        90     90       110     500.0\n",
      "102        90     90       100     500.0\n",
      "103        90     90       100     500.4\n",
      "104        30     92       108      92.7\n",
      "105        30     93       128     124.0\n",
      "106       180     90       120     800.3\n",
      "107        30     90       120      86.2\n",
      "108        90     90       120     500.3\n",
      "109       210    137       184    1860.4\n",
      "110        60    102       124     325.2\n",
      "111        45    107       124     275.0\n",
      "112        15    124       139     124.2\n",
      "113        45    100       120     225.3\n",
      "114        60    108       131     367.6\n",
      "115        60    108       151     351.7\n",
      "116        60    116       141     443.0\n",
      "117        60     97       122     277.4\n",
      "118        60    105       125       NaN\n",
      "119        60    103       124     332.7\n",
      "120        30    112       137     193.9\n",
      "121        45    100       120     100.7\n",
      "122        60    119       169     336.7\n",
      "123        60    107       127     344.9\n",
      "124        60    111       151     368.5\n",
      "125        60     98       122     271.0\n",
      "126        60     97       124     275.3\n",
      "127        60    109       127     382.0\n",
      "128        90     99       125     466.4\n",
      "129        60    114       151     384.0\n",
      "130        60    104       134     342.5\n",
      "131        60    107       138     357.5\n",
      "132        60    103       133     335.0\n",
      "133        60    106       132     327.5\n",
      "134        60    103       136     339.0\n",
      "135        20    136       156     189.0\n",
      "136        45    117       143     317.7\n",
      "137        45    115       137     318.0\n",
      "138        45    113       138     308.0\n",
      "139        20    141       162     222.4\n",
      "140        60    108       135     390.0\n",
      "141        60     97       127       NaN\n",
      "142        45    100       120     250.4\n",
      "143        45    122       149     335.4\n",
      "144        60    136       170     470.2\n",
      "145        45    106       126     270.8\n",
      "146        60    107       136     400.0\n",
      "147        60    112       146     361.9\n",
      "148        30    103       127     185.0\n",
      "149        60    110       150     409.4\n",
      "150        60    106       134     343.0\n",
      "151        60    109       129     353.2\n",
      "152        60    109       138     374.0\n",
      "153        30    150       167     275.8\n",
      "154        60    105       128     328.0\n",
      "155        60    111       151     368.5\n",
      "156        60     97       131     270.4\n",
      "157        60    100       120     270.4\n",
      "158        60    114       150     382.8\n",
      "159        30     80       120     240.9\n",
      "160        30     85       120     250.4\n",
      "161        45     90       130     260.4\n",
      "162        45     95       130     270.0\n",
      "163        45    100       140     280.9\n",
      "164        60    105       140     290.8\n",
      "165        60    110       145     300.0\n",
      "166        60    115       145     310.2\n",
      "167        75    120       150     320.4\n",
      "168        75    125       150     330.4\n"
     ]
    }
   ],
   "source": [
    "# Load Files Into a DataFrame\n",
    "\n",
    "import pandas as pd\n",
    "\n",
    "df = pd.read_csv('data.csv')\n",
    "\n",
    "# print(df)\n",
    "#    Duration   Pulse   Maxpulse   Calories\n",
    "# 0        60     110        130      409.1\n",
    "# 1        60     117        145      479.0\n",
    "# 2        60     103        135      340.0\n",
    "\n",
    "# \n",
    "print(df.to_string()) "
   ]
  },
  {
   "cell_type": "code",
   "execution_count": 77,
   "metadata": {},
   "outputs": [
    {
     "name": "stdout",
     "output_type": "stream",
     "text": [
      "   Duration  Pulse  Maxpulse  Calories\n",
      "0        60    110       130     409.1\n",
      "1        60    117       145     479.0\n",
      "2        60    103       135     340.0\n",
      "3        45    109       175     282.4\n",
      "4        45    117       148     406.0\n"
     ]
    }
   ],
   "source": [
    "# read json data\n",
    "import pandas as pd\n",
    "\n",
    "df = pd.read_json('data.json')\n",
    "\n",
    "print(df.head(5))\n",
    "\n",
    "#    Duration  Pulse  Maxpulse  Calories\n",
    "# 0        60    110       130     409.1\n",
    "# 1        60    117       145     479.0\n",
    "# 2        60    103       135     340.0\n",
    "# 3        45    109       175     282.4\n",
    "# 4        45    117       148     406.0\n",
    "\n"
   ]
  },
  {
   "cell_type": "code",
   "execution_count": 78,
   "metadata": {},
   "outputs": [],
   "source": [
    "# Meta\n",
    "\n",
    "import pandas as pd\n",
    "\n",
    "df = pd.read_csv('data.csv')"
   ]
  },
  {
   "cell_type": "code",
   "execution_count": 80,
   "metadata": {},
   "outputs": [
    {
     "name": "stdout",
     "output_type": "stream",
     "text": [
      "<class 'pandas.core.frame.DataFrame'>\n",
      "RangeIndex: 169 entries, 0 to 168\n",
      "Data columns (total 4 columns):\n",
      " #   Column    Non-Null Count  Dtype  \n",
      "---  ------    --------------  -----  \n",
      " 0   Duration  169 non-null    int64  \n",
      " 1   Pulse     169 non-null    int64  \n",
      " 2   Maxpulse  169 non-null    int64  \n",
      " 3   Calories  164 non-null    float64\n",
      "dtypes: float64(1), int64(3)\n",
      "memory usage: 5.4 KB\n",
      "None\n"
     ]
    }
   ],
   "source": [
    "print(df.info())\n",
    "# <class 'pandas.core.frame.DataFrame'>\n",
    "# RangeIndex: 169 entries, 0 to 168\n",
    "# Data columns (total 4 columns):\n",
    "#  #   Column    Non-Null Count  Dtype  \n",
    "# ---  ------    --------------  -----  \n",
    "#  0   Duration  169 non-null    int64  \n",
    "#  1   Pulse     169 non-null    int64  \n",
    "#  2   Maxpulse  169 non-null    int64  \n",
    "#  3   Calories  164 non-null    float64\n",
    "# dtypes: float64(1), int64(3)\n",
    "# memory usage: 5.4 KB\n",
    "# None"
   ]
  },
  {
   "cell_type": "code",
   "execution_count": null,
   "metadata": {},
   "outputs": [
    {
     "name": "stdout",
     "output_type": "stream",
     "text": [
      "Index(['Duration', 'Pulse', 'Maxpulse', 'Calories'], dtype='object')\n"
     ]
    }
   ],
   "source": [
    "print(df.columns)\n",
    "# Index(['Duration', 'Pulse', 'Maxpulse', 'Calories'], dtype='object')"
   ]
  },
  {
   "cell_type": "code",
   "execution_count": 83,
   "metadata": {},
   "outputs": [
    {
     "data": {
      "text/plain": [
       "Duration      int64\n",
       "Pulse         int64\n",
       "Maxpulse      int64\n",
       "Calories    float64\n",
       "dtype: object"
      ]
     },
     "execution_count": 83,
     "metadata": {},
     "output_type": "execute_result"
    }
   ],
   "source": [
    "df.dtypes\n",
    "# Duration      int64\n",
    "# Pulse         int64\n",
    "# Maxpulse      int64\n",
    "# Calories    float64\n",
    "# dtype: object"
   ]
  },
  {
   "cell_type": "code",
   "execution_count": 84,
   "metadata": {},
   "outputs": [
    {
     "name": "stdout",
     "output_type": "stream",
     "text": [
      "   Duration  Pulse  Maxpulse  Calories\n",
      "0        60    110       130     409.1\n",
      "1        60    117       145     479.0\n",
      "2        60    103       135     340.0\n",
      "     Duration  Pulse  Maxpulse  Calories\n",
      "166        60    115       145     310.2\n",
      "167        75    120       150     320.4\n",
      "168        75    125       150     330.4\n"
     ]
    }
   ],
   "source": [
    "print(df.head(3))\n",
    "#    Duration  Pulse  Maxpulse  Calories\n",
    "# 0        60    110       130     409.1\n",
    "# 1        60    117       145     479.0\n",
    "# 2        60    103       135     340.0\n",
    "\n",
    "print(df.tail(3))\n",
    "    #  Duration  Pulse  Maxpulse  Calories\n",
    "# 166        60    115       145     310.2\n",
    "# 167        75    120       150     320.4\n",
    "# 168        75    125       150     330.4\n",
    "\n"
   ]
  },
  {
   "cell_type": "code",
   "execution_count": 87,
   "metadata": {},
   "outputs": [
    {
     "ename": "FileNotFoundError",
     "evalue": "[Errno 2] No such file or directory: 'data_cleaning.csv'",
     "output_type": "error",
     "traceback": [
      "\u001b[1;31m---------------------------------------------------------------------------\u001b[0m",
      "\u001b[1;31mFileNotFoundError\u001b[0m                         Traceback (most recent call last)",
      "Cell \u001b[1;32mIn[87], line 1\u001b[0m\n\u001b[1;32m----> 1\u001b[0m df \u001b[38;5;241m=\u001b[39m \u001b[43mpd\u001b[49m\u001b[38;5;241;43m.\u001b[39;49m\u001b[43mread_csv\u001b[49m\u001b[43m(\u001b[49m\u001b[38;5;124;43m'\u001b[39;49m\u001b[38;5;124;43mdata_cleaning.csv\u001b[39;49m\u001b[38;5;124;43m'\u001b[39;49m\u001b[43m)\u001b[49m\n\u001b[0;32m      3\u001b[0m \u001b[38;5;66;03m# df.fillna(130, inplace = True)\u001b[39;00m\n",
      "File \u001b[1;32mc:\\Users\\simon\\miniconda3\\envs\\d2l\\lib\\site-packages\\pandas\\io\\parsers\\readers.py:912\u001b[0m, in \u001b[0;36mread_csv\u001b[1;34m(filepath_or_buffer, sep, delimiter, header, names, index_col, usecols, dtype, engine, converters, true_values, false_values, skipinitialspace, skiprows, skipfooter, nrows, na_values, keep_default_na, na_filter, verbose, skip_blank_lines, parse_dates, infer_datetime_format, keep_date_col, date_parser, date_format, dayfirst, cache_dates, iterator, chunksize, compression, thousands, decimal, lineterminator, quotechar, quoting, doublequote, escapechar, comment, encoding, encoding_errors, dialect, on_bad_lines, delim_whitespace, low_memory, memory_map, float_precision, storage_options, dtype_backend)\u001b[0m\n\u001b[0;32m    899\u001b[0m kwds_defaults \u001b[38;5;241m=\u001b[39m _refine_defaults_read(\n\u001b[0;32m    900\u001b[0m     dialect,\n\u001b[0;32m    901\u001b[0m     delimiter,\n\u001b[1;32m   (...)\u001b[0m\n\u001b[0;32m    908\u001b[0m     dtype_backend\u001b[38;5;241m=\u001b[39mdtype_backend,\n\u001b[0;32m    909\u001b[0m )\n\u001b[0;32m    910\u001b[0m kwds\u001b[38;5;241m.\u001b[39mupdate(kwds_defaults)\n\u001b[1;32m--> 912\u001b[0m \u001b[38;5;28;01mreturn\u001b[39;00m \u001b[43m_read\u001b[49m\u001b[43m(\u001b[49m\u001b[43mfilepath_or_buffer\u001b[49m\u001b[43m,\u001b[49m\u001b[43m \u001b[49m\u001b[43mkwds\u001b[49m\u001b[43m)\u001b[49m\n",
      "File \u001b[1;32mc:\\Users\\simon\\miniconda3\\envs\\d2l\\lib\\site-packages\\pandas\\io\\parsers\\readers.py:577\u001b[0m, in \u001b[0;36m_read\u001b[1;34m(filepath_or_buffer, kwds)\u001b[0m\n\u001b[0;32m    574\u001b[0m _validate_names(kwds\u001b[38;5;241m.\u001b[39mget(\u001b[38;5;124m\"\u001b[39m\u001b[38;5;124mnames\u001b[39m\u001b[38;5;124m\"\u001b[39m, \u001b[38;5;28;01mNone\u001b[39;00m))\n\u001b[0;32m    576\u001b[0m \u001b[38;5;66;03m# Create the parser.\u001b[39;00m\n\u001b[1;32m--> 577\u001b[0m parser \u001b[38;5;241m=\u001b[39m TextFileReader(filepath_or_buffer, \u001b[38;5;241m*\u001b[39m\u001b[38;5;241m*\u001b[39mkwds)\n\u001b[0;32m    579\u001b[0m \u001b[38;5;28;01mif\u001b[39;00m chunksize \u001b[38;5;129;01mor\u001b[39;00m iterator:\n\u001b[0;32m    580\u001b[0m     \u001b[38;5;28;01mreturn\u001b[39;00m parser\n",
      "File \u001b[1;32mc:\\Users\\simon\\miniconda3\\envs\\d2l\\lib\\site-packages\\pandas\\io\\parsers\\readers.py:1407\u001b[0m, in \u001b[0;36mTextFileReader.__init__\u001b[1;34m(self, f, engine, **kwds)\u001b[0m\n\u001b[0;32m   1404\u001b[0m     \u001b[38;5;28mself\u001b[39m\u001b[38;5;241m.\u001b[39moptions[\u001b[38;5;124m\"\u001b[39m\u001b[38;5;124mhas_index_names\u001b[39m\u001b[38;5;124m\"\u001b[39m] \u001b[38;5;241m=\u001b[39m kwds[\u001b[38;5;124m\"\u001b[39m\u001b[38;5;124mhas_index_names\u001b[39m\u001b[38;5;124m\"\u001b[39m]\n\u001b[0;32m   1406\u001b[0m \u001b[38;5;28mself\u001b[39m\u001b[38;5;241m.\u001b[39mhandles: IOHandles \u001b[38;5;241m|\u001b[39m \u001b[38;5;28;01mNone\u001b[39;00m \u001b[38;5;241m=\u001b[39m \u001b[38;5;28;01mNone\u001b[39;00m\n\u001b[1;32m-> 1407\u001b[0m \u001b[38;5;28mself\u001b[39m\u001b[38;5;241m.\u001b[39m_engine \u001b[38;5;241m=\u001b[39m \u001b[38;5;28;43mself\u001b[39;49m\u001b[38;5;241;43m.\u001b[39;49m\u001b[43m_make_engine\u001b[49m\u001b[43m(\u001b[49m\u001b[43mf\u001b[49m\u001b[43m,\u001b[49m\u001b[43m \u001b[49m\u001b[38;5;28;43mself\u001b[39;49m\u001b[38;5;241;43m.\u001b[39;49m\u001b[43mengine\u001b[49m\u001b[43m)\u001b[49m\n",
      "File \u001b[1;32mc:\\Users\\simon\\miniconda3\\envs\\d2l\\lib\\site-packages\\pandas\\io\\parsers\\readers.py:1661\u001b[0m, in \u001b[0;36mTextFileReader._make_engine\u001b[1;34m(self, f, engine)\u001b[0m\n\u001b[0;32m   1659\u001b[0m     \u001b[38;5;28;01mif\u001b[39;00m \u001b[38;5;124m\"\u001b[39m\u001b[38;5;124mb\u001b[39m\u001b[38;5;124m\"\u001b[39m \u001b[38;5;129;01mnot\u001b[39;00m \u001b[38;5;129;01min\u001b[39;00m mode:\n\u001b[0;32m   1660\u001b[0m         mode \u001b[38;5;241m+\u001b[39m\u001b[38;5;241m=\u001b[39m \u001b[38;5;124m\"\u001b[39m\u001b[38;5;124mb\u001b[39m\u001b[38;5;124m\"\u001b[39m\n\u001b[1;32m-> 1661\u001b[0m \u001b[38;5;28mself\u001b[39m\u001b[38;5;241m.\u001b[39mhandles \u001b[38;5;241m=\u001b[39m \u001b[43mget_handle\u001b[49m\u001b[43m(\u001b[49m\n\u001b[0;32m   1662\u001b[0m \u001b[43m    \u001b[49m\u001b[43mf\u001b[49m\u001b[43m,\u001b[49m\n\u001b[0;32m   1663\u001b[0m \u001b[43m    \u001b[49m\u001b[43mmode\u001b[49m\u001b[43m,\u001b[49m\n\u001b[0;32m   1664\u001b[0m \u001b[43m    \u001b[49m\u001b[43mencoding\u001b[49m\u001b[38;5;241;43m=\u001b[39;49m\u001b[38;5;28;43mself\u001b[39;49m\u001b[38;5;241;43m.\u001b[39;49m\u001b[43moptions\u001b[49m\u001b[38;5;241;43m.\u001b[39;49m\u001b[43mget\u001b[49m\u001b[43m(\u001b[49m\u001b[38;5;124;43m\"\u001b[39;49m\u001b[38;5;124;43mencoding\u001b[39;49m\u001b[38;5;124;43m\"\u001b[39;49m\u001b[43m,\u001b[49m\u001b[43m \u001b[49m\u001b[38;5;28;43;01mNone\u001b[39;49;00m\u001b[43m)\u001b[49m\u001b[43m,\u001b[49m\n\u001b[0;32m   1665\u001b[0m \u001b[43m    \u001b[49m\u001b[43mcompression\u001b[49m\u001b[38;5;241;43m=\u001b[39;49m\u001b[38;5;28;43mself\u001b[39;49m\u001b[38;5;241;43m.\u001b[39;49m\u001b[43moptions\u001b[49m\u001b[38;5;241;43m.\u001b[39;49m\u001b[43mget\u001b[49m\u001b[43m(\u001b[49m\u001b[38;5;124;43m\"\u001b[39;49m\u001b[38;5;124;43mcompression\u001b[39;49m\u001b[38;5;124;43m\"\u001b[39;49m\u001b[43m,\u001b[49m\u001b[43m \u001b[49m\u001b[38;5;28;43;01mNone\u001b[39;49;00m\u001b[43m)\u001b[49m\u001b[43m,\u001b[49m\n\u001b[0;32m   1666\u001b[0m \u001b[43m    \u001b[49m\u001b[43mmemory_map\u001b[49m\u001b[38;5;241;43m=\u001b[39;49m\u001b[38;5;28;43mself\u001b[39;49m\u001b[38;5;241;43m.\u001b[39;49m\u001b[43moptions\u001b[49m\u001b[38;5;241;43m.\u001b[39;49m\u001b[43mget\u001b[49m\u001b[43m(\u001b[49m\u001b[38;5;124;43m\"\u001b[39;49m\u001b[38;5;124;43mmemory_map\u001b[39;49m\u001b[38;5;124;43m\"\u001b[39;49m\u001b[43m,\u001b[49m\u001b[43m \u001b[49m\u001b[38;5;28;43;01mFalse\u001b[39;49;00m\u001b[43m)\u001b[49m\u001b[43m,\u001b[49m\n\u001b[0;32m   1667\u001b[0m \u001b[43m    \u001b[49m\u001b[43mis_text\u001b[49m\u001b[38;5;241;43m=\u001b[39;49m\u001b[43mis_text\u001b[49m\u001b[43m,\u001b[49m\n\u001b[0;32m   1668\u001b[0m \u001b[43m    \u001b[49m\u001b[43merrors\u001b[49m\u001b[38;5;241;43m=\u001b[39;49m\u001b[38;5;28;43mself\u001b[39;49m\u001b[38;5;241;43m.\u001b[39;49m\u001b[43moptions\u001b[49m\u001b[38;5;241;43m.\u001b[39;49m\u001b[43mget\u001b[49m\u001b[43m(\u001b[49m\u001b[38;5;124;43m\"\u001b[39;49m\u001b[38;5;124;43mencoding_errors\u001b[39;49m\u001b[38;5;124;43m\"\u001b[39;49m\u001b[43m,\u001b[49m\u001b[43m \u001b[49m\u001b[38;5;124;43m\"\u001b[39;49m\u001b[38;5;124;43mstrict\u001b[39;49m\u001b[38;5;124;43m\"\u001b[39;49m\u001b[43m)\u001b[49m\u001b[43m,\u001b[49m\n\u001b[0;32m   1669\u001b[0m \u001b[43m    \u001b[49m\u001b[43mstorage_options\u001b[49m\u001b[38;5;241;43m=\u001b[39;49m\u001b[38;5;28;43mself\u001b[39;49m\u001b[38;5;241;43m.\u001b[39;49m\u001b[43moptions\u001b[49m\u001b[38;5;241;43m.\u001b[39;49m\u001b[43mget\u001b[49m\u001b[43m(\u001b[49m\u001b[38;5;124;43m\"\u001b[39;49m\u001b[38;5;124;43mstorage_options\u001b[39;49m\u001b[38;5;124;43m\"\u001b[39;49m\u001b[43m,\u001b[49m\u001b[43m \u001b[49m\u001b[38;5;28;43;01mNone\u001b[39;49;00m\u001b[43m)\u001b[49m\u001b[43m,\u001b[49m\n\u001b[0;32m   1670\u001b[0m \u001b[43m\u001b[49m\u001b[43m)\u001b[49m\n\u001b[0;32m   1671\u001b[0m \u001b[38;5;28;01massert\u001b[39;00m \u001b[38;5;28mself\u001b[39m\u001b[38;5;241m.\u001b[39mhandles \u001b[38;5;129;01mis\u001b[39;00m \u001b[38;5;129;01mnot\u001b[39;00m \u001b[38;5;28;01mNone\u001b[39;00m\n\u001b[0;32m   1672\u001b[0m f \u001b[38;5;241m=\u001b[39m \u001b[38;5;28mself\u001b[39m\u001b[38;5;241m.\u001b[39mhandles\u001b[38;5;241m.\u001b[39mhandle\n",
      "File \u001b[1;32mc:\\Users\\simon\\miniconda3\\envs\\d2l\\lib\\site-packages\\pandas\\io\\common.py:859\u001b[0m, in \u001b[0;36mget_handle\u001b[1;34m(path_or_buf, mode, encoding, compression, memory_map, is_text, errors, storage_options)\u001b[0m\n\u001b[0;32m    854\u001b[0m \u001b[38;5;28;01melif\u001b[39;00m \u001b[38;5;28misinstance\u001b[39m(handle, \u001b[38;5;28mstr\u001b[39m):\n\u001b[0;32m    855\u001b[0m     \u001b[38;5;66;03m# Check whether the filename is to be opened in binary mode.\u001b[39;00m\n\u001b[0;32m    856\u001b[0m     \u001b[38;5;66;03m# Binary mode does not support 'encoding' and 'newline'.\u001b[39;00m\n\u001b[0;32m    857\u001b[0m     \u001b[38;5;28;01mif\u001b[39;00m ioargs\u001b[38;5;241m.\u001b[39mencoding \u001b[38;5;129;01mand\u001b[39;00m \u001b[38;5;124m\"\u001b[39m\u001b[38;5;124mb\u001b[39m\u001b[38;5;124m\"\u001b[39m \u001b[38;5;129;01mnot\u001b[39;00m \u001b[38;5;129;01min\u001b[39;00m ioargs\u001b[38;5;241m.\u001b[39mmode:\n\u001b[0;32m    858\u001b[0m         \u001b[38;5;66;03m# Encoding\u001b[39;00m\n\u001b[1;32m--> 859\u001b[0m         handle \u001b[38;5;241m=\u001b[39m \u001b[38;5;28;43mopen\u001b[39;49m\u001b[43m(\u001b[49m\n\u001b[0;32m    860\u001b[0m \u001b[43m            \u001b[49m\u001b[43mhandle\u001b[49m\u001b[43m,\u001b[49m\n\u001b[0;32m    861\u001b[0m \u001b[43m            \u001b[49m\u001b[43mioargs\u001b[49m\u001b[38;5;241;43m.\u001b[39;49m\u001b[43mmode\u001b[49m\u001b[43m,\u001b[49m\n\u001b[0;32m    862\u001b[0m \u001b[43m            \u001b[49m\u001b[43mencoding\u001b[49m\u001b[38;5;241;43m=\u001b[39;49m\u001b[43mioargs\u001b[49m\u001b[38;5;241;43m.\u001b[39;49m\u001b[43mencoding\u001b[49m\u001b[43m,\u001b[49m\n\u001b[0;32m    863\u001b[0m \u001b[43m            \u001b[49m\u001b[43merrors\u001b[49m\u001b[38;5;241;43m=\u001b[39;49m\u001b[43merrors\u001b[49m\u001b[43m,\u001b[49m\n\u001b[0;32m    864\u001b[0m \u001b[43m            \u001b[49m\u001b[43mnewline\u001b[49m\u001b[38;5;241;43m=\u001b[39;49m\u001b[38;5;124;43m\"\u001b[39;49m\u001b[38;5;124;43m\"\u001b[39;49m\u001b[43m,\u001b[49m\n\u001b[0;32m    865\u001b[0m \u001b[43m        \u001b[49m\u001b[43m)\u001b[49m\n\u001b[0;32m    866\u001b[0m     \u001b[38;5;28;01melse\u001b[39;00m:\n\u001b[0;32m    867\u001b[0m         \u001b[38;5;66;03m# Binary mode\u001b[39;00m\n\u001b[0;32m    868\u001b[0m         handle \u001b[38;5;241m=\u001b[39m \u001b[38;5;28mopen\u001b[39m(handle, ioargs\u001b[38;5;241m.\u001b[39mmode)\n",
      "\u001b[1;31mFileNotFoundError\u001b[0m: [Errno 2] No such file or directory: 'data_cleaning.csv'"
     ]
    }
   ],
   "source": []
  }
 ],
 "metadata": {
  "kernelspec": {
   "display_name": "Python 3",
   "language": "python",
   "name": "python3"
  },
  "language_info": {
   "codemirror_mode": {
    "name": "ipython",
    "version": 3
   },
   "file_extension": ".py",
   "mimetype": "text/x-python",
   "name": "python",
   "nbconvert_exporter": "python",
   "pygments_lexer": "ipython3",
   "version": "3.9.18"
  }
 },
 "nbformat": 4,
 "nbformat_minor": 2
}
